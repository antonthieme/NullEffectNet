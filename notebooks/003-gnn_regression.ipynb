{
 "cells": [
  {
   "cell_type": "code",
   "execution_count": 1,
   "metadata": {},
   "outputs": [],
   "source": [
    "import sys\n",
    "import pandas as pd\n",
    "import ast\n",
    "import pickle\n",
    "import random\n",
    "from torch.utils.data import DataLoader, Dataset\n",
    "import matplotlib.pyplot as plt\n",
    "import seaborn as sns\n",
    "import anndata as ad\n",
    "import scanpy as sc\n",
    "import numpy as np\n",
    "import torch\n",
    "import torch.nn as nn\n",
    "import torch.nn.functional as F\n",
    "from torch_geometric.nn import GCNConv\n",
    "import networkx as nx\n",
    "from torch_geometric.utils import from_networkx\n",
    "import numpy as np\n",
    "from sklearn.metrics import precision_recall_fscore_support, confusion_matrix, precision_recall_curve, r2_score, mean_absolute_error, mean_squared_error\n",
    "from scipy.special import inv_boxcox\n",
    "\n",
    "from dotenv import find_dotenv, load_dotenv\n",
    "\n",
    "load_dotenv(find_dotenv())\n",
    "\n",
    "sys.path.append('../src/null-effect-net')\n",
    "import utils\n",
    "import models\n",
    "import dataset\n",
    "import train_utils"
   ]
  },
  {
   "cell_type": "code",
   "execution_count": 2,
   "metadata": {},
   "outputs": [],
   "source": [
    "class GNNRegressor(nn.Module):\n",
    "    def __init__(self, input_dim, hidden_dim=128, output_dim=32):\n",
    "        super().__init__()\n",
    "        \n",
    "        self.conv1 = GCNConv(input_dim, hidden_dim)\n",
    "        self.conv2 = GCNConv(hidden_dim, output_dim)\n",
    "        \n",
    "        self.mlp = nn.Sequential(\n",
    "            nn.Linear(output_dim, 64),\n",
    "            nn.ReLU(),\n",
    "            nn.Linear(64, 1)  # 1 logit\n",
    "        )\n",
    "    \n",
    "    def forward(self, data, query_node_indices):\n",
    "        # data.x: (num_nodes, feature_dim)\n",
    "        # data.edge_index: (2, num_edges)\n",
    "        data.x = data.x.to(torch.float32)\n",
    "        \n",
    "        x = self.conv1(data.x, data.edge_index)\n",
    "        x = F.relu(x)\n",
    "        x = self.conv2(x, data.edge_index)\n",
    "        x = F.relu(x)\n",
    "        \n",
    "        # Only select embeddings for the query nodes\n",
    "        query_embeddings = x[query_node_indices]\n",
    "        \n",
    "        logits = self.mlp(query_embeddings)\n",
    "        return logits.squeeze(-1)\n",
    "\n",
    "    def compute_loss(self, logits, labels):\n",
    "        return F.mse_loss(preds, targets)\n"
   ]
  },
  {
   "cell_type": "code",
   "execution_count": 3,
   "metadata": {},
   "outputs": [],
   "source": [
    "class PerturbationDataset(Dataset):\n",
    "    def __init__(self, label_df, active_nodes_df, node_features_df, node_idx_mapping, device='cpu'):\n",
    "        self.label_df = label_df.reset_index(drop=True)\n",
    "        self.device = device\n",
    "        self.node_idx_mapping = node_idx_mapping  # Mapping from Ensembl ID to node index\n",
    "\n",
    "        # Build mapping from (Cell Line) to list of active genes (may be useful later)\n",
    "        self.cell_line_to_active = (\n",
    "            active_nodes_df.groupby(\"Cell Line\")[\"Gene\"]\n",
    "            .apply(list)\n",
    "            .to_dict()\n",
    "        )\n",
    "\n",
    "    def __len__(self):\n",
    "        return len(self.label_df)\n",
    "\n",
    "    def __getitem__(self, idx):\n",
    "        row = self.label_df.iloc[idx]\n",
    "        target_id = row[\"Target\"]\n",
    "        label = torch.tensor(row[\"e_distance_transformed\"], dtype=torch.float32).to(self.device)\n",
    "\n",
    "        # Map target Ensembl ID to node index\n",
    "        try:\n",
    "            target_idx = self.node_idx_mapping[target_id]\n",
    "        except KeyError:\n",
    "            raise ValueError(f\"Target node '{target_id}' not found in node_idx_mapping.\")\n",
    "\n",
    "        return target_idx, label\n",
    "\n",
    "def collate_function(batch):\n",
    "    target_indices, labels = zip(*batch)\n",
    "    target_indices = torch.tensor(target_indices, dtype=torch.long)\n",
    "    labels = torch.stack(labels)\n",
    "    return target_indices, labels"
   ]
  },
  {
   "cell_type": "code",
   "execution_count": 4,
   "metadata": {},
   "outputs": [
    {
     "data": {
      "text/html": [
       "<div>\n",
       "<style scoped>\n",
       "    .dataframe tbody tr th:only-of-type {\n",
       "        vertical-align: middle;\n",
       "    }\n",
       "\n",
       "    .dataframe tbody tr th {\n",
       "        vertical-align: top;\n",
       "    }\n",
       "\n",
       "    .dataframe thead th {\n",
       "        text-align: right;\n",
       "    }\n",
       "</style>\n",
       "<table border=\"1\" class=\"dataframe\">\n",
       "  <thead>\n",
       "    <tr style=\"text-align: right;\">\n",
       "      <th></th>\n",
       "      <th>HGNC ID</th>\n",
       "      <th>Approved symbol</th>\n",
       "      <th>Approved name</th>\n",
       "      <th>Status</th>\n",
       "      <th>Previous symbols</th>\n",
       "      <th>Alias symbols</th>\n",
       "      <th>Chromosome</th>\n",
       "      <th>Accession numbers</th>\n",
       "      <th>RefSeq IDs</th>\n",
       "      <th>NCBI Gene ID</th>\n",
       "      <th>Ensembl gene ID</th>\n",
       "      <th>Mouse genome database ID</th>\n",
       "      <th>Pubmed IDs</th>\n",
       "      <th>Alias names</th>\n",
       "    </tr>\n",
       "  </thead>\n",
       "  <tbody>\n",
       "    <tr>\n",
       "      <th>0</th>\n",
       "      <td>HGNC:5</td>\n",
       "      <td>A1BG</td>\n",
       "      <td>alpha-1-B glycoprotein</td>\n",
       "      <td>Approved</td>\n",
       "      <td>NaN</td>\n",
       "      <td>NaN</td>\n",
       "      <td>19q13.43</td>\n",
       "      <td>NaN</td>\n",
       "      <td>NM_130786</td>\n",
       "      <td>1.0</td>\n",
       "      <td>ENSG00000121410</td>\n",
       "      <td>MGI:2152878</td>\n",
       "      <td>2591067</td>\n",
       "      <td>NaN</td>\n",
       "    </tr>\n",
       "    <tr>\n",
       "      <th>1</th>\n",
       "      <td>HGNC:37133</td>\n",
       "      <td>A1BG-AS1</td>\n",
       "      <td>A1BG antisense RNA 1</td>\n",
       "      <td>Approved</td>\n",
       "      <td>NCRNA00181, A1BGAS, A1BG-AS</td>\n",
       "      <td>FLJ23569</td>\n",
       "      <td>19q13.43</td>\n",
       "      <td>BC040926</td>\n",
       "      <td>NR_015380</td>\n",
       "      <td>503538.0</td>\n",
       "      <td>ENSG00000268895</td>\n",
       "      <td>NaN</td>\n",
       "      <td>NaN</td>\n",
       "      <td>NaN</td>\n",
       "    </tr>\n",
       "    <tr>\n",
       "      <th>2</th>\n",
       "      <td>HGNC:24086</td>\n",
       "      <td>A1CF</td>\n",
       "      <td>APOBEC1 complementation factor</td>\n",
       "      <td>Approved</td>\n",
       "      <td>NaN</td>\n",
       "      <td>ACF, ASP, ACF64, ACF65, APOBEC1CF</td>\n",
       "      <td>10q11.23</td>\n",
       "      <td>AF271790</td>\n",
       "      <td>NM_014576</td>\n",
       "      <td>29974.0</td>\n",
       "      <td>ENSG00000148584</td>\n",
       "      <td>MGI:1917115</td>\n",
       "      <td>11815617, 11072063</td>\n",
       "      <td>NaN</td>\n",
       "    </tr>\n",
       "    <tr>\n",
       "      <th>3</th>\n",
       "      <td>HGNC:6</td>\n",
       "      <td>A1S9T</td>\n",
       "      <td>symbol withdrawn, see [HGNC:12469](/data/gene-...</td>\n",
       "      <td>Symbol Withdrawn</td>\n",
       "      <td>NaN</td>\n",
       "      <td>NaN</td>\n",
       "      <td>NaN</td>\n",
       "      <td>NaN</td>\n",
       "      <td>NaN</td>\n",
       "      <td>NaN</td>\n",
       "      <td>NaN</td>\n",
       "      <td>NaN</td>\n",
       "      <td>NaN</td>\n",
       "      <td>NaN</td>\n",
       "    </tr>\n",
       "    <tr>\n",
       "      <th>4</th>\n",
       "      <td>HGNC:7</td>\n",
       "      <td>A2M</td>\n",
       "      <td>alpha-2-macroglobulin</td>\n",
       "      <td>Approved</td>\n",
       "      <td>NaN</td>\n",
       "      <td>FWP007, S863-7, CPAMD5</td>\n",
       "      <td>12p13.31</td>\n",
       "      <td>BX647329, X68728, M11313</td>\n",
       "      <td>NM_000014</td>\n",
       "      <td>2.0</td>\n",
       "      <td>ENSG00000175899</td>\n",
       "      <td>MGI:2449119</td>\n",
       "      <td>2408344, 9697696</td>\n",
       "      <td>NaN</td>\n",
       "    </tr>\n",
       "    <tr>\n",
       "      <th>...</th>\n",
       "      <td>...</td>\n",
       "      <td>...</td>\n",
       "      <td>...</td>\n",
       "      <td>...</td>\n",
       "      <td>...</td>\n",
       "      <td>...</td>\n",
       "      <td>...</td>\n",
       "      <td>...</td>\n",
       "      <td>...</td>\n",
       "      <td>...</td>\n",
       "      <td>...</td>\n",
       "      <td>...</td>\n",
       "      <td>...</td>\n",
       "      <td>...</td>\n",
       "    </tr>\n",
       "    <tr>\n",
       "      <th>49354</th>\n",
       "      <td>HGNC:25820</td>\n",
       "      <td>ZYG11B</td>\n",
       "      <td>zyg-11 family member B, cell cycle regulator</td>\n",
       "      <td>Approved</td>\n",
       "      <td>ZYG11</td>\n",
       "      <td>FLJ13456</td>\n",
       "      <td>1p32.3</td>\n",
       "      <td>AB051517</td>\n",
       "      <td>NM_024646</td>\n",
       "      <td>79699.0</td>\n",
       "      <td>ENSG00000162378</td>\n",
       "      <td>MGI:2685277</td>\n",
       "      <td>11214970</td>\n",
       "      <td>NaN</td>\n",
       "    </tr>\n",
       "    <tr>\n",
       "      <th>49355</th>\n",
       "      <td>HGNC:13200</td>\n",
       "      <td>ZYX</td>\n",
       "      <td>zyxin</td>\n",
       "      <td>Approved</td>\n",
       "      <td>NaN</td>\n",
       "      <td>NaN</td>\n",
       "      <td>7q34</td>\n",
       "      <td>X95735</td>\n",
       "      <td>NM_003461</td>\n",
       "      <td>7791.0</td>\n",
       "      <td>ENSG00000159840</td>\n",
       "      <td>MGI:103072</td>\n",
       "      <td>8917469, 8940160</td>\n",
       "      <td>NaN</td>\n",
       "    </tr>\n",
       "    <tr>\n",
       "      <th>49356</th>\n",
       "      <td>HGNC:51695</td>\n",
       "      <td>ZYXP1</td>\n",
       "      <td>zyxin pseudogene 1</td>\n",
       "      <td>Approved</td>\n",
       "      <td>NaN</td>\n",
       "      <td>NaN</td>\n",
       "      <td>8q24.23</td>\n",
       "      <td>NaN</td>\n",
       "      <td>NaN</td>\n",
       "      <td>NaN</td>\n",
       "      <td>ENSG00000274572</td>\n",
       "      <td>NaN</td>\n",
       "      <td>NaN</td>\n",
       "      <td>NaN</td>\n",
       "    </tr>\n",
       "    <tr>\n",
       "      <th>49357</th>\n",
       "      <td>HGNC:29027</td>\n",
       "      <td>ZZEF1</td>\n",
       "      <td>zinc finger ZZ-type and EF-hand domain contain...</td>\n",
       "      <td>Approved</td>\n",
       "      <td>NaN</td>\n",
       "      <td>KIAA0399, ZZZ4, FLJ10821</td>\n",
       "      <td>17p13.2</td>\n",
       "      <td>BC035319</td>\n",
       "      <td>NM_015113</td>\n",
       "      <td>23140.0</td>\n",
       "      <td>ENSG00000074755</td>\n",
       "      <td>MGI:2444286</td>\n",
       "      <td>9455477</td>\n",
       "      <td>NaN</td>\n",
       "    </tr>\n",
       "    <tr>\n",
       "      <th>49358</th>\n",
       "      <td>HGNC:24523</td>\n",
       "      <td>ZZZ3</td>\n",
       "      <td>zinc finger ZZ-type containing 3</td>\n",
       "      <td>Approved</td>\n",
       "      <td>NaN</td>\n",
       "      <td>DKFZP564I052, ATAC1</td>\n",
       "      <td>1p31.1</td>\n",
       "      <td>AL080063</td>\n",
       "      <td>NM_015534</td>\n",
       "      <td>26009.0</td>\n",
       "      <td>ENSG00000036549</td>\n",
       "      <td>MGI:1920453</td>\n",
       "      <td>16428443, 21304275</td>\n",
       "      <td>ATAC component 1 homolog (Drosophila)</td>\n",
       "    </tr>\n",
       "  </tbody>\n",
       "</table>\n",
       "<p>49359 rows × 14 columns</p>\n",
       "</div>"
      ],
      "text/plain": [
       "          HGNC ID Approved symbol  \\\n",
       "0          HGNC:5            A1BG   \n",
       "1      HGNC:37133        A1BG-AS1   \n",
       "2      HGNC:24086            A1CF   \n",
       "3          HGNC:6           A1S9T   \n",
       "4          HGNC:7             A2M   \n",
       "...           ...             ...   \n",
       "49354  HGNC:25820          ZYG11B   \n",
       "49355  HGNC:13200             ZYX   \n",
       "49356  HGNC:51695           ZYXP1   \n",
       "49357  HGNC:29027           ZZEF1   \n",
       "49358  HGNC:24523            ZZZ3   \n",
       "\n",
       "                                           Approved name            Status  \\\n",
       "0                                 alpha-1-B glycoprotein          Approved   \n",
       "1                                   A1BG antisense RNA 1          Approved   \n",
       "2                         APOBEC1 complementation factor          Approved   \n",
       "3      symbol withdrawn, see [HGNC:12469](/data/gene-...  Symbol Withdrawn   \n",
       "4                                  alpha-2-macroglobulin          Approved   \n",
       "...                                                  ...               ...   \n",
       "49354       zyg-11 family member B, cell cycle regulator          Approved   \n",
       "49355                                              zyxin          Approved   \n",
       "49356                                 zyxin pseudogene 1          Approved   \n",
       "49357  zinc finger ZZ-type and EF-hand domain contain...          Approved   \n",
       "49358                   zinc finger ZZ-type containing 3          Approved   \n",
       "\n",
       "                  Previous symbols                      Alias symbols  \\\n",
       "0                              NaN                                NaN   \n",
       "1      NCRNA00181, A1BGAS, A1BG-AS                           FLJ23569   \n",
       "2                              NaN  ACF, ASP, ACF64, ACF65, APOBEC1CF   \n",
       "3                              NaN                                NaN   \n",
       "4                              NaN             FWP007, S863-7, CPAMD5   \n",
       "...                            ...                                ...   \n",
       "49354                        ZYG11                           FLJ13456   \n",
       "49355                          NaN                                NaN   \n",
       "49356                          NaN                                NaN   \n",
       "49357                          NaN           KIAA0399, ZZZ4, FLJ10821   \n",
       "49358                          NaN                DKFZP564I052, ATAC1   \n",
       "\n",
       "      Chromosome         Accession numbers RefSeq IDs  NCBI Gene ID  \\\n",
       "0       19q13.43                       NaN  NM_130786           1.0   \n",
       "1       19q13.43                  BC040926  NR_015380      503538.0   \n",
       "2       10q11.23                  AF271790  NM_014576       29974.0   \n",
       "3            NaN                       NaN        NaN           NaN   \n",
       "4       12p13.31  BX647329, X68728, M11313  NM_000014           2.0   \n",
       "...          ...                       ...        ...           ...   \n",
       "49354     1p32.3                  AB051517  NM_024646       79699.0   \n",
       "49355       7q34                    X95735  NM_003461        7791.0   \n",
       "49356    8q24.23                       NaN        NaN           NaN   \n",
       "49357    17p13.2                  BC035319  NM_015113       23140.0   \n",
       "49358     1p31.1                  AL080063  NM_015534       26009.0   \n",
       "\n",
       "       Ensembl gene ID Mouse genome database ID          Pubmed IDs  \\\n",
       "0      ENSG00000121410              MGI:2152878             2591067   \n",
       "1      ENSG00000268895                      NaN                 NaN   \n",
       "2      ENSG00000148584              MGI:1917115  11815617, 11072063   \n",
       "3                  NaN                      NaN                 NaN   \n",
       "4      ENSG00000175899              MGI:2449119    2408344, 9697696   \n",
       "...                ...                      ...                 ...   \n",
       "49354  ENSG00000162378              MGI:2685277            11214970   \n",
       "49355  ENSG00000159840               MGI:103072    8917469, 8940160   \n",
       "49356  ENSG00000274572                      NaN                 NaN   \n",
       "49357  ENSG00000074755              MGI:2444286             9455477   \n",
       "49358  ENSG00000036549              MGI:1920453  16428443, 21304275   \n",
       "\n",
       "                                 Alias names  \n",
       "0                                        NaN  \n",
       "1                                        NaN  \n",
       "2                                        NaN  \n",
       "3                                        NaN  \n",
       "4                                        NaN  \n",
       "...                                      ...  \n",
       "49354                                    NaN  \n",
       "49355                                    NaN  \n",
       "49356                                    NaN  \n",
       "49357                                    NaN  \n",
       "49358  ATAC component 1 homolog (Drosophila)  \n",
       "\n",
       "[49359 rows x 14 columns]"
      ]
     },
     "execution_count": 4,
     "metadata": {},
     "output_type": "execute_result"
    }
   ],
   "source": [
    "id_map_df = pd.read_csv('../data/id_mappings/gene_ref.tsv', sep='\\t')\n",
    "id_map_df"
   ]
  },
  {
   "cell_type": "code",
   "execution_count": 5,
   "metadata": {},
   "outputs": [],
   "source": [
    "device = torch.device(\"cuda\" if torch.cuda.is_available() else \"cpu\")\n",
    "\n",
    "train_utils.set_seed(42)"
   ]
  },
  {
   "cell_type": "code",
   "execution_count": 6,
   "metadata": {},
   "outputs": [],
   "source": [
    "with open('../data/embeddings.pkl', 'rb') as f:\n",
    "    node_features_df = pickle.load(f)\n",
    "\n",
    "node_features_df['Concat Embedding'] = node_features_df['ESM Embedding'] + node_features_df['SubCell Embedding'] + node_features_df['PINNACLE Embedding']\n",
    "\n",
    "train_df = pd.read_csv('../data/perturbation_screens/e_distance/train.csv', index_col=0)\n",
    "\n",
    "active_nodes_df = pd.read_csv('../data/expression_reference/expression_reference.csv', index_col=0)\n",
    "\n",
    "G = nx.read_edgelist('../data/networks/global_ppi_edgelist.txt')\n",
    "\n",
    "ensembl_to_node = dict(zip(id_map_df['Ensembl gene ID'], id_map_df['Approved symbol']))\n",
    "node_to_ensembl = dict(zip(id_map_df['Approved symbol'], id_map_df['Ensembl gene ID']))\n",
    "\n",
    "G = nx.relabel_nodes(G, node_to_ensembl)\n",
    "\n",
    "# Get set of nodes that have features\n",
    "valid_nodes = set(node_features_df['Ensembl ID'])\n",
    "\n",
    "# Remove nodes from G that are not in valid_nodes\n",
    "G.remove_nodes_from([n for n in list(G.nodes) if n not in valid_nodes])\n",
    "\n",
    "node_to_idx = {node: idx for idx, node in enumerate(G.nodes())}\n",
    "\n",
    "train_df = train_df[train_df['Target'].isin(G.nodes())]\n",
    "\n",
    "# Convert to edge_index format\n",
    "data = from_networkx(G)\n",
    "\n",
    "features = torch.stack([\n",
    "    torch.tensor(node_features_df.set_index('Ensembl ID').loc[idx]['Concat Embedding'])\n",
    "    for idx in G.nodes()\n",
    "])\n",
    "data.x = features\n",
    "\n",
    "train_dataset = PerturbationDataset(\n",
    "    train_df.iloc[:int(0.9*len(train_df))],\n",
    "    active_nodes_df,\n",
    "    node_features_df,\n",
    "    node_to_idx,\n",
    "    device=device\n",
    ")\n",
    "\n",
    "val_dataset = PerturbationDataset(\n",
    "    train_df.iloc[int(0.9*len(train_df)):],\n",
    "    active_nodes_df,\n",
    "    node_features_df,\n",
    "    node_to_idx,\n",
    "    device=device\n",
    ")\n",
    "\n",
    "input_dim = len(node_features_df['Concat Embedding'][0])\n",
    "\n",
    "model = GNNRegressor(\n",
    "    input_dim=input_dim, \n",
    "    hidden_dim=512, \n",
    "    output_dim=128\n",
    ").to(device)\n",
    "\n",
    "optimizer = torch.optim.Adam(model.parameters(), lr=5e-4, weight_decay=1e-5)\n",
    "\n",
    "train_loader = DataLoader(train_dataset, batch_size=16, shuffle=True, collate_fn=collate_function)\n",
    "val_loader = DataLoader(val_dataset, batch_size=16, shuffle=False, collate_fn=collate_function)"
   ]
  },
  {
   "cell_type": "code",
   "execution_count": 7,
   "metadata": {},
   "outputs": [
    {
     "data": {
      "text/html": [
       "<div>\n",
       "<style scoped>\n",
       "    .dataframe tbody tr th:only-of-type {\n",
       "        vertical-align: middle;\n",
       "    }\n",
       "\n",
       "    .dataframe tbody tr th {\n",
       "        vertical-align: top;\n",
       "    }\n",
       "\n",
       "    .dataframe thead th {\n",
       "        text-align: right;\n",
       "    }\n",
       "</style>\n",
       "<table border=\"1\" class=\"dataframe\">\n",
       "  <thead>\n",
       "    <tr style=\"text-align: right;\">\n",
       "      <th></th>\n",
       "      <th>Target</th>\n",
       "      <th>e_distance</th>\n",
       "      <th>p_value</th>\n",
       "      <th>experiment</th>\n",
       "      <th>Perturbed</th>\n",
       "      <th>e_distance_transformed</th>\n",
       "    </tr>\n",
       "  </thead>\n",
       "  <tbody>\n",
       "    <tr>\n",
       "      <th>1798</th>\n",
       "      <td>ENSG00000146425</td>\n",
       "      <td>0.701794</td>\n",
       "      <td>0.334000</td>\n",
       "      <td>GasperiniShendure2019_lowMOI_</td>\n",
       "      <td>False</td>\n",
       "      <td>-0.351767</td>\n",
       "    </tr>\n",
       "    <tr>\n",
       "      <th>2295</th>\n",
       "      <td>ENSG00000134809</td>\n",
       "      <td>4.209333</td>\n",
       "      <td>0.001996</td>\n",
       "      <td>ReplogleWeissman2022_rpe1_</td>\n",
       "      <td>True</td>\n",
       "      <td>1.476856</td>\n",
       "    </tr>\n",
       "    <tr>\n",
       "      <th>802</th>\n",
       "      <td>ENSG00000108312</td>\n",
       "      <td>0.085282</td>\n",
       "      <td>0.149701</td>\n",
       "      <td>ReplogleWeissman2022_K562_essential_</td>\n",
       "      <td>False</td>\n",
       "      <td>-2.351265</td>\n",
       "    </tr>\n",
       "    <tr>\n",
       "      <th>709</th>\n",
       "      <td>ENSG00000124380</td>\n",
       "      <td>1.066327</td>\n",
       "      <td>0.001996</td>\n",
       "      <td>ReplogleWeissman2022_K562_essential_</td>\n",
       "      <td>True</td>\n",
       "      <td>0.064298</td>\n",
       "    </tr>\n",
       "    <tr>\n",
       "      <th>1509</th>\n",
       "      <td>ENSG00000243927</td>\n",
       "      <td>0.227439</td>\n",
       "      <td>0.001996</td>\n",
       "      <td>ReplogleWeissman2022_K562_essential_</td>\n",
       "      <td>True</td>\n",
       "      <td>-1.440390</td>\n",
       "    </tr>\n",
       "    <tr>\n",
       "      <th>...</th>\n",
       "      <td>...</td>\n",
       "      <td>...</td>\n",
       "      <td>...</td>\n",
       "      <td>...</td>\n",
       "      <td>...</td>\n",
       "      <td>...</td>\n",
       "    </tr>\n",
       "    <tr>\n",
       "      <th>1251</th>\n",
       "      <td>ENSG00000187778</td>\n",
       "      <td>0.408868</td>\n",
       "      <td>0.001996</td>\n",
       "      <td>ReplogleWeissman2022_K562_essential_</td>\n",
       "      <td>True</td>\n",
       "      <td>-0.879488</td>\n",
       "    </tr>\n",
       "    <tr>\n",
       "      <th>3914</th>\n",
       "      <td>ENSG00000104889</td>\n",
       "      <td>0.305057</td>\n",
       "      <td>0.001996</td>\n",
       "      <td>FrangiehIzar2021_RNA_</td>\n",
       "      <td>True</td>\n",
       "      <td>-1.161140</td>\n",
       "    </tr>\n",
       "    <tr>\n",
       "      <th>245</th>\n",
       "      <td>ENSG00000132603</td>\n",
       "      <td>1.493626</td>\n",
       "      <td>0.001996</td>\n",
       "      <td>ReplogleWeissman2022_K562_essential_</td>\n",
       "      <td>True</td>\n",
       "      <td>0.404249</td>\n",
       "    </tr>\n",
       "    <tr>\n",
       "      <th>1039</th>\n",
       "      <td>ENSG00000179409</td>\n",
       "      <td>0.738596</td>\n",
       "      <td>0.001996</td>\n",
       "      <td>ReplogleWeissman2022_K562_essential_</td>\n",
       "      <td>True</td>\n",
       "      <td>-0.301284</td>\n",
       "    </tr>\n",
       "    <tr>\n",
       "      <th>2548</th>\n",
       "      <td>ENSG00000071994</td>\n",
       "      <td>3.313718</td>\n",
       "      <td>0.001996</td>\n",
       "      <td>ReplogleWeissman2022_rpe1_</td>\n",
       "      <td>True</td>\n",
       "      <td>1.225469</td>\n",
       "    </tr>\n",
       "  </tbody>\n",
       "</table>\n",
       "<p>3180 rows × 6 columns</p>\n",
       "</div>"
      ],
      "text/plain": [
       "               Target  e_distance   p_value  \\\n",
       "1798  ENSG00000146425    0.701794  0.334000   \n",
       "2295  ENSG00000134809    4.209333  0.001996   \n",
       "802   ENSG00000108312    0.085282  0.149701   \n",
       "709   ENSG00000124380    1.066327  0.001996   \n",
       "1509  ENSG00000243927    0.227439  0.001996   \n",
       "...               ...         ...       ...   \n",
       "1251  ENSG00000187778    0.408868  0.001996   \n",
       "3914  ENSG00000104889    0.305057  0.001996   \n",
       "245   ENSG00000132603    1.493626  0.001996   \n",
       "1039  ENSG00000179409    0.738596  0.001996   \n",
       "2548  ENSG00000071994    3.313718  0.001996   \n",
       "\n",
       "                                experiment  Perturbed  e_distance_transformed  \n",
       "1798         GasperiniShendure2019_lowMOI_      False               -0.351767  \n",
       "2295            ReplogleWeissman2022_rpe1_       True                1.476856  \n",
       "802   ReplogleWeissman2022_K562_essential_      False               -2.351265  \n",
       "709   ReplogleWeissman2022_K562_essential_       True                0.064298  \n",
       "1509  ReplogleWeissman2022_K562_essential_       True               -1.440390  \n",
       "...                                    ...        ...                     ...  \n",
       "1251  ReplogleWeissman2022_K562_essential_       True               -0.879488  \n",
       "3914                 FrangiehIzar2021_RNA_       True               -1.161140  \n",
       "245   ReplogleWeissman2022_K562_essential_       True                0.404249  \n",
       "1039  ReplogleWeissman2022_K562_essential_       True               -0.301284  \n",
       "2548            ReplogleWeissman2022_rpe1_       True                1.225469  \n",
       "\n",
       "[3180 rows x 6 columns]"
      ]
     },
     "execution_count": 7,
     "metadata": {},
     "output_type": "execute_result"
    }
   ],
   "source": [
    "train_df"
   ]
  },
  {
   "cell_type": "code",
   "execution_count": 22,
   "metadata": {},
   "outputs": [
    {
     "name": "stdout",
     "output_type": "stream",
     "text": [
      "\n",
      "===== Epoch 1/20 =====\n",
      "[Batch 10] Loss: 2.1359\n",
      "[Batch 20] Loss: 1.1081\n",
      "[Batch 30] Loss: 1.9157\n",
      "[Batch 40] Loss: 1.7581\n",
      "[Batch 50] Loss: 1.3180\n",
      "[Batch 60] Loss: 1.2823\n",
      "[Batch 70] Loss: 1.5441\n",
      "[Batch 80] Loss: 1.0204\n",
      "[Batch 90] Loss: 1.4347\n",
      "[Batch 100] Loss: 3.4249\n",
      "[Batch 110] Loss: 1.0553\n",
      "[Batch 120] Loss: 1.7468\n",
      "[Batch 130] Loss: 1.9720\n",
      "[Batch 140] Loss: 2.1269\n",
      "[Batch 150] Loss: 1.3769\n",
      "[Batch 160] Loss: 1.6084\n",
      "[Batch 170] Loss: 1.7748\n"
     ]
    },
    {
     "name": "stderr",
     "output_type": "stream",
     "text": [
      "/home/users/thiemea/micromamba/envs/nen_env/lib/python3.10/site-packages/sklearn/metrics/_regression.py:492: FutureWarning: 'squared' is deprecated in version 1.4 and will be removed in 1.6. To calculate the root mean squared error, use the function'root_mean_squared_error'.\n",
      "  warnings.warn(\n"
     ]
    },
    {
     "name": "stdout",
     "output_type": "stream",
     "text": [
      "\n",
      "[Training] Loss: 1.8194 | R²: 0.1482 | MAE: 1.1119 | RMSE: 1.3490\n"
     ]
    },
    {
     "name": "stderr",
     "output_type": "stream",
     "text": [
      "/home/users/thiemea/micromamba/envs/nen_env/lib/python3.10/site-packages/sklearn/metrics/_regression.py:492: FutureWarning: 'squared' is deprecated in version 1.4 and will be removed in 1.6. To calculate the root mean squared error, use the function'root_mean_squared_error'.\n",
      "  warnings.warn(\n"
     ]
    },
    {
     "name": "stdout",
     "output_type": "stream",
     "text": [
      "\n",
      "[Evaluation] R²: 0.1658 | MAE: 1.8120 | RMSE: 2.8260\n",
      "New best model saved with R²: 0.1658\n",
      "\n",
      "===== Epoch 2/20 =====\n",
      "[Batch 10] Loss: 0.9643\n",
      "[Batch 20] Loss: 2.6115\n",
      "[Batch 30] Loss: 1.6596\n",
      "[Batch 40] Loss: 2.1408\n",
      "[Batch 50] Loss: 1.2126\n",
      "[Batch 60] Loss: 1.3639\n",
      "[Batch 70] Loss: 1.7891\n",
      "[Batch 80] Loss: 2.1633\n",
      "[Batch 90] Loss: 1.7646\n",
      "[Batch 100] Loss: 1.5412\n",
      "[Batch 110] Loss: 2.0187\n",
      "[Batch 120] Loss: 1.2058\n",
      "[Batch 130] Loss: 2.1606\n",
      "[Batch 140] Loss: 2.4220\n",
      "[Batch 150] Loss: 1.6557\n",
      "[Batch 160] Loss: 2.3381\n",
      "[Batch 170] Loss: 1.5651\n"
     ]
    },
    {
     "name": "stderr",
     "output_type": "stream",
     "text": [
      "/home/users/thiemea/micromamba/envs/nen_env/lib/python3.10/site-packages/sklearn/metrics/_regression.py:492: FutureWarning: 'squared' is deprecated in version 1.4 and will be removed in 1.6. To calculate the root mean squared error, use the function'root_mean_squared_error'.\n",
      "  warnings.warn(\n"
     ]
    },
    {
     "name": "stdout",
     "output_type": "stream",
     "text": [
      "\n",
      "[Training] Loss: 1.8192 | R²: 0.1482 | MAE: 1.1119 | RMSE: 1.3490\n"
     ]
    },
    {
     "name": "stderr",
     "output_type": "stream",
     "text": [
      "/home/users/thiemea/micromamba/envs/nen_env/lib/python3.10/site-packages/sklearn/metrics/_regression.py:492: FutureWarning: 'squared' is deprecated in version 1.4 and will be removed in 1.6. To calculate the root mean squared error, use the function'root_mean_squared_error'.\n",
      "  warnings.warn(\n"
     ]
    },
    {
     "name": "stdout",
     "output_type": "stream",
     "text": [
      "\n",
      "[Evaluation] R²: 0.1658 | MAE: 1.8120 | RMSE: 2.8260\n",
      "\n",
      "===== Epoch 3/20 =====\n",
      "[Batch 10] Loss: 1.5230\n",
      "[Batch 20] Loss: 2.0016\n",
      "[Batch 30] Loss: 1.5565\n",
      "[Batch 40] Loss: 2.2193\n",
      "[Batch 50] Loss: 1.6314\n",
      "[Batch 60] Loss: 0.7562\n",
      "[Batch 70] Loss: 1.3019\n",
      "[Batch 80] Loss: 1.9331\n",
      "[Batch 90] Loss: 2.0546\n",
      "[Batch 100] Loss: 1.7325\n",
      "[Batch 110] Loss: 2.7522\n",
      "[Batch 120] Loss: 2.0443\n",
      "[Batch 130] Loss: 1.5147\n",
      "[Batch 140] Loss: 2.5180\n",
      "[Batch 150] Loss: 2.5626\n",
      "[Batch 160] Loss: 2.4202\n",
      "[Batch 170] Loss: 1.5607\n"
     ]
    },
    {
     "name": "stderr",
     "output_type": "stream",
     "text": [
      "/home/users/thiemea/micromamba/envs/nen_env/lib/python3.10/site-packages/sklearn/metrics/_regression.py:492: FutureWarning: 'squared' is deprecated in version 1.4 and will be removed in 1.6. To calculate the root mean squared error, use the function'root_mean_squared_error'.\n",
      "  warnings.warn(\n"
     ]
    },
    {
     "name": "stdout",
     "output_type": "stream",
     "text": [
      "\n",
      "[Training] Loss: 1.8196 | R²: 0.1482 | MAE: 1.1119 | RMSE: 1.3490\n"
     ]
    },
    {
     "name": "stderr",
     "output_type": "stream",
     "text": [
      "/home/users/thiemea/micromamba/envs/nen_env/lib/python3.10/site-packages/sklearn/metrics/_regression.py:492: FutureWarning: 'squared' is deprecated in version 1.4 and will be removed in 1.6. To calculate the root mean squared error, use the function'root_mean_squared_error'.\n",
      "  warnings.warn(\n"
     ]
    },
    {
     "name": "stdout",
     "output_type": "stream",
     "text": [
      "\n",
      "[Evaluation] R²: 0.1658 | MAE: 1.8120 | RMSE: 2.8260\n",
      "\n",
      "===== Epoch 4/20 =====\n",
      "[Batch 10] Loss: 1.3135\n",
      "[Batch 20] Loss: 1.8951\n",
      "[Batch 30] Loss: 0.9722\n",
      "[Batch 40] Loss: 1.2179\n",
      "[Batch 50] Loss: 1.9746\n",
      "[Batch 60] Loss: 1.3604\n",
      "[Batch 70] Loss: 1.5215\n",
      "[Batch 80] Loss: 2.4627\n",
      "[Batch 90] Loss: 1.4072\n",
      "[Batch 100] Loss: 1.8949\n",
      "[Batch 110] Loss: 1.5162\n",
      "[Batch 120] Loss: 1.4594\n",
      "[Batch 130] Loss: 1.3225\n",
      "[Batch 140] Loss: 1.8139\n",
      "[Batch 150] Loss: 1.1375\n",
      "[Batch 160] Loss: 1.7073\n",
      "[Batch 170] Loss: 1.8885\n"
     ]
    },
    {
     "name": "stderr",
     "output_type": "stream",
     "text": [
      "/home/users/thiemea/micromamba/envs/nen_env/lib/python3.10/site-packages/sklearn/metrics/_regression.py:492: FutureWarning: 'squared' is deprecated in version 1.4 and will be removed in 1.6. To calculate the root mean squared error, use the function'root_mean_squared_error'.\n",
      "  warnings.warn(\n"
     ]
    },
    {
     "name": "stdout",
     "output_type": "stream",
     "text": [
      "\n",
      "[Training] Loss: 1.8192 | R²: 0.1482 | MAE: 1.1119 | RMSE: 1.3490\n"
     ]
    },
    {
     "name": "stderr",
     "output_type": "stream",
     "text": [
      "/home/users/thiemea/micromamba/envs/nen_env/lib/python3.10/site-packages/sklearn/metrics/_regression.py:492: FutureWarning: 'squared' is deprecated in version 1.4 and will be removed in 1.6. To calculate the root mean squared error, use the function'root_mean_squared_error'.\n",
      "  warnings.warn(\n"
     ]
    },
    {
     "name": "stdout",
     "output_type": "stream",
     "text": [
      "\n",
      "[Evaluation] R²: 0.1658 | MAE: 1.8120 | RMSE: 2.8260\n",
      "\n",
      "===== Epoch 5/20 =====\n",
      "[Batch 10] Loss: 2.2210\n",
      "[Batch 20] Loss: 1.3185\n",
      "[Batch 30] Loss: 1.5757\n",
      "[Batch 40] Loss: 1.9670\n",
      "[Batch 50] Loss: 3.0306\n",
      "[Batch 60] Loss: 1.2084\n",
      "[Batch 70] Loss: 1.7176\n",
      "[Batch 80] Loss: 1.0323\n",
      "[Batch 90] Loss: 1.7681\n",
      "[Batch 100] Loss: 1.2846\n",
      "[Batch 110] Loss: 1.7372\n",
      "[Batch 120] Loss: 1.4018\n",
      "[Batch 130] Loss: 2.4472\n",
      "[Batch 140] Loss: 1.2110\n",
      "[Batch 150] Loss: 1.5903\n",
      "[Batch 160] Loss: 2.5809\n",
      "[Batch 170] Loss: 0.9779\n"
     ]
    },
    {
     "name": "stderr",
     "output_type": "stream",
     "text": [
      "/home/users/thiemea/micromamba/envs/nen_env/lib/python3.10/site-packages/sklearn/metrics/_regression.py:492: FutureWarning: 'squared' is deprecated in version 1.4 and will be removed in 1.6. To calculate the root mean squared error, use the function'root_mean_squared_error'.\n",
      "  warnings.warn(\n"
     ]
    },
    {
     "name": "stdout",
     "output_type": "stream",
     "text": [
      "\n",
      "[Training] Loss: 1.8200 | R²: 0.1482 | MAE: 1.1119 | RMSE: 1.3490\n"
     ]
    },
    {
     "name": "stderr",
     "output_type": "stream",
     "text": [
      "/home/users/thiemea/micromamba/envs/nen_env/lib/python3.10/site-packages/sklearn/metrics/_regression.py:492: FutureWarning: 'squared' is deprecated in version 1.4 and will be removed in 1.6. To calculate the root mean squared error, use the function'root_mean_squared_error'.\n",
      "  warnings.warn(\n"
     ]
    },
    {
     "name": "stdout",
     "output_type": "stream",
     "text": [
      "\n",
      "[Evaluation] R²: 0.1658 | MAE: 1.8120 | RMSE: 2.8260\n",
      "\n",
      "===== Epoch 6/20 =====\n",
      "[Batch 10] Loss: 1.0700\n",
      "[Batch 20] Loss: 1.6699\n",
      "[Batch 30] Loss: 1.9143\n",
      "[Batch 40] Loss: 0.8877\n",
      "[Batch 50] Loss: 1.7498\n",
      "[Batch 60] Loss: 1.5495\n",
      "[Batch 70] Loss: 2.1562\n",
      "[Batch 80] Loss: 1.2162\n",
      "[Batch 90] Loss: 1.6637\n",
      "[Batch 100] Loss: 1.3060\n",
      "[Batch 110] Loss: 1.8439\n",
      "[Batch 120] Loss: 1.3790\n",
      "[Batch 130] Loss: 2.1507\n",
      "[Batch 140] Loss: 1.2834\n",
      "[Batch 150] Loss: 1.2681\n",
      "[Batch 160] Loss: 1.9149\n",
      "[Batch 170] Loss: 2.3473\n"
     ]
    },
    {
     "name": "stderr",
     "output_type": "stream",
     "text": [
      "/home/users/thiemea/micromamba/envs/nen_env/lib/python3.10/site-packages/sklearn/metrics/_regression.py:492: FutureWarning: 'squared' is deprecated in version 1.4 and will be removed in 1.6. To calculate the root mean squared error, use the function'root_mean_squared_error'.\n",
      "  warnings.warn(\n"
     ]
    },
    {
     "name": "stdout",
     "output_type": "stream",
     "text": [
      "\n",
      "[Training] Loss: 1.8195 | R²: 0.1482 | MAE: 1.1119 | RMSE: 1.3490\n"
     ]
    },
    {
     "name": "stderr",
     "output_type": "stream",
     "text": [
      "/home/users/thiemea/micromamba/envs/nen_env/lib/python3.10/site-packages/sklearn/metrics/_regression.py:492: FutureWarning: 'squared' is deprecated in version 1.4 and will be removed in 1.6. To calculate the root mean squared error, use the function'root_mean_squared_error'.\n",
      "  warnings.warn(\n"
     ]
    },
    {
     "name": "stdout",
     "output_type": "stream",
     "text": [
      "\n",
      "[Evaluation] R²: 0.1658 | MAE: 1.8120 | RMSE: 2.8260\n",
      "\n",
      "===== Epoch 7/20 =====\n",
      "[Batch 10] Loss: 1.2694\n",
      "[Batch 20] Loss: 1.7839\n",
      "[Batch 30] Loss: 1.0066\n",
      "[Batch 40] Loss: 1.8889\n",
      "[Batch 50] Loss: 1.9993\n",
      "[Batch 60] Loss: 1.7499\n",
      "[Batch 70] Loss: 0.9217\n",
      "[Batch 80] Loss: 1.4721\n",
      "[Batch 90] Loss: 1.0436\n",
      "[Batch 100] Loss: 1.8302\n",
      "[Batch 110] Loss: 1.4888\n",
      "[Batch 120] Loss: 1.9416\n",
      "[Batch 130] Loss: 2.5648\n",
      "[Batch 140] Loss: 2.1629\n",
      "[Batch 150] Loss: 2.8656\n",
      "[Batch 160] Loss: 2.3433\n",
      "[Batch 170] Loss: 1.5372\n"
     ]
    },
    {
     "name": "stderr",
     "output_type": "stream",
     "text": [
      "/home/users/thiemea/micromamba/envs/nen_env/lib/python3.10/site-packages/sklearn/metrics/_regression.py:492: FutureWarning: 'squared' is deprecated in version 1.4 and will be removed in 1.6. To calculate the root mean squared error, use the function'root_mean_squared_error'.\n",
      "  warnings.warn(\n"
     ]
    },
    {
     "name": "stdout",
     "output_type": "stream",
     "text": [
      "\n",
      "[Training] Loss: 1.8206 | R²: 0.1482 | MAE: 1.1119 | RMSE: 1.3490\n"
     ]
    },
    {
     "name": "stderr",
     "output_type": "stream",
     "text": [
      "/home/users/thiemea/micromamba/envs/nen_env/lib/python3.10/site-packages/sklearn/metrics/_regression.py:492: FutureWarning: 'squared' is deprecated in version 1.4 and will be removed in 1.6. To calculate the root mean squared error, use the function'root_mean_squared_error'.\n",
      "  warnings.warn(\n"
     ]
    },
    {
     "name": "stdout",
     "output_type": "stream",
     "text": [
      "\n",
      "[Evaluation] R²: 0.1658 | MAE: 1.8120 | RMSE: 2.8260\n",
      "\n",
      "===== Epoch 8/20 =====\n",
      "[Batch 10] Loss: 1.3601\n",
      "[Batch 20] Loss: 1.1835\n",
      "[Batch 30] Loss: 2.1289\n",
      "[Batch 40] Loss: 2.0651\n",
      "[Batch 50] Loss: 1.6008\n",
      "[Batch 60] Loss: 2.7916\n",
      "[Batch 70] Loss: 1.8169\n",
      "[Batch 80] Loss: 1.9912\n",
      "[Batch 90] Loss: 2.5937\n",
      "[Batch 100] Loss: 1.4200\n",
      "[Batch 110] Loss: 1.6781\n",
      "[Batch 120] Loss: 2.0879\n",
      "[Batch 130] Loss: 1.6811\n",
      "[Batch 140] Loss: 1.9889\n",
      "[Batch 150] Loss: 1.9505\n",
      "[Batch 160] Loss: 1.7548\n",
      "[Batch 170] Loss: 2.1282\n"
     ]
    },
    {
     "name": "stderr",
     "output_type": "stream",
     "text": [
      "/home/users/thiemea/micromamba/envs/nen_env/lib/python3.10/site-packages/sklearn/metrics/_regression.py:492: FutureWarning: 'squared' is deprecated in version 1.4 and will be removed in 1.6. To calculate the root mean squared error, use the function'root_mean_squared_error'.\n",
      "  warnings.warn(\n"
     ]
    },
    {
     "name": "stdout",
     "output_type": "stream",
     "text": [
      "\n",
      "[Training] Loss: 1.8200 | R²: 0.1482 | MAE: 1.1119 | RMSE: 1.3490\n"
     ]
    },
    {
     "name": "stderr",
     "output_type": "stream",
     "text": [
      "/home/users/thiemea/micromamba/envs/nen_env/lib/python3.10/site-packages/sklearn/metrics/_regression.py:492: FutureWarning: 'squared' is deprecated in version 1.4 and will be removed in 1.6. To calculate the root mean squared error, use the function'root_mean_squared_error'.\n",
      "  warnings.warn(\n"
     ]
    },
    {
     "name": "stdout",
     "output_type": "stream",
     "text": [
      "\n",
      "[Evaluation] R²: 0.1658 | MAE: 1.8120 | RMSE: 2.8260\n",
      "\n",
      "===== Epoch 9/20 =====\n",
      "[Batch 10] Loss: 2.9286\n",
      "[Batch 20] Loss: 2.2172\n",
      "[Batch 30] Loss: 1.6861\n",
      "[Batch 40] Loss: 1.9909\n",
      "[Batch 50] Loss: 1.3747\n",
      "[Batch 60] Loss: 1.5801\n",
      "[Batch 70] Loss: 1.6707\n",
      "[Batch 80] Loss: 2.6278\n",
      "[Batch 90] Loss: 2.1706\n",
      "[Batch 100] Loss: 2.0801\n",
      "[Batch 110] Loss: 1.2591\n",
      "[Batch 120] Loss: 1.8350\n",
      "[Batch 130] Loss: 1.2774\n",
      "[Batch 140] Loss: 1.2736\n",
      "[Batch 150] Loss: 2.4911\n",
      "[Batch 160] Loss: 1.6300\n",
      "[Batch 170] Loss: 2.8251\n"
     ]
    },
    {
     "name": "stderr",
     "output_type": "stream",
     "text": [
      "/home/users/thiemea/micromamba/envs/nen_env/lib/python3.10/site-packages/sklearn/metrics/_regression.py:492: FutureWarning: 'squared' is deprecated in version 1.4 and will be removed in 1.6. To calculate the root mean squared error, use the function'root_mean_squared_error'.\n",
      "  warnings.warn(\n"
     ]
    },
    {
     "name": "stdout",
     "output_type": "stream",
     "text": [
      "\n",
      "[Training] Loss: 1.8194 | R²: 0.1482 | MAE: 1.1119 | RMSE: 1.3490\n"
     ]
    },
    {
     "name": "stderr",
     "output_type": "stream",
     "text": [
      "/home/users/thiemea/micromamba/envs/nen_env/lib/python3.10/site-packages/sklearn/metrics/_regression.py:492: FutureWarning: 'squared' is deprecated in version 1.4 and will be removed in 1.6. To calculate the root mean squared error, use the function'root_mean_squared_error'.\n",
      "  warnings.warn(\n"
     ]
    },
    {
     "name": "stdout",
     "output_type": "stream",
     "text": [
      "\n",
      "[Evaluation] R²: 0.1658 | MAE: 1.8120 | RMSE: 2.8260\n",
      "\n",
      "===== Epoch 10/20 =====\n",
      "[Batch 10] Loss: 1.3015\n",
      "[Batch 20] Loss: 1.1830\n",
      "[Batch 30] Loss: 2.6259\n",
      "[Batch 40] Loss: 1.8586\n",
      "[Batch 50] Loss: 0.9512\n",
      "[Batch 60] Loss: 1.3907\n",
      "[Batch 70] Loss: 1.6143\n",
      "[Batch 80] Loss: 1.5032\n",
      "[Batch 90] Loss: 1.5273\n",
      "[Batch 100] Loss: 2.2708\n",
      "[Batch 110] Loss: 1.2380\n",
      "[Batch 120] Loss: 1.5646\n",
      "[Batch 130] Loss: 0.8956\n",
      "[Batch 140] Loss: 1.8343\n",
      "[Batch 150] Loss: 2.3890\n",
      "[Batch 160] Loss: 2.1102\n",
      "[Batch 170] Loss: 1.3459\n"
     ]
    },
    {
     "name": "stderr",
     "output_type": "stream",
     "text": [
      "/home/users/thiemea/micromamba/envs/nen_env/lib/python3.10/site-packages/sklearn/metrics/_regression.py:492: FutureWarning: 'squared' is deprecated in version 1.4 and will be removed in 1.6. To calculate the root mean squared error, use the function'root_mean_squared_error'.\n",
      "  warnings.warn(\n"
     ]
    },
    {
     "name": "stdout",
     "output_type": "stream",
     "text": [
      "\n",
      "[Training] Loss: 1.8197 | R²: 0.1482 | MAE: 1.1119 | RMSE: 1.3490\n"
     ]
    },
    {
     "name": "stderr",
     "output_type": "stream",
     "text": [
      "/home/users/thiemea/micromamba/envs/nen_env/lib/python3.10/site-packages/sklearn/metrics/_regression.py:492: FutureWarning: 'squared' is deprecated in version 1.4 and will be removed in 1.6. To calculate the root mean squared error, use the function'root_mean_squared_error'.\n",
      "  warnings.warn(\n"
     ]
    },
    {
     "name": "stdout",
     "output_type": "stream",
     "text": [
      "\n",
      "[Evaluation] R²: 0.1658 | MAE: 1.8120 | RMSE: 2.8260\n",
      "\n",
      "===== Epoch 11/20 =====\n",
      "[Batch 10] Loss: 2.0329\n",
      "[Batch 20] Loss: 2.0560\n",
      "[Batch 30] Loss: 1.9675\n",
      "[Batch 40] Loss: 1.1830\n",
      "[Batch 50] Loss: 1.5048\n",
      "[Batch 60] Loss: 0.5782\n",
      "[Batch 70] Loss: 2.1630\n",
      "[Batch 80] Loss: 1.7700\n",
      "[Batch 90] Loss: 2.1424\n",
      "[Batch 100] Loss: 1.7176\n",
      "[Batch 110] Loss: 0.9723\n",
      "[Batch 120] Loss: 2.7271\n",
      "[Batch 130] Loss: 1.4859\n",
      "[Batch 140] Loss: 2.6219\n",
      "[Batch 150] Loss: 1.3939\n",
      "[Batch 160] Loss: 1.9357\n",
      "[Batch 170] Loss: 1.2815\n"
     ]
    },
    {
     "name": "stderr",
     "output_type": "stream",
     "text": [
      "/home/users/thiemea/micromamba/envs/nen_env/lib/python3.10/site-packages/sklearn/metrics/_regression.py:492: FutureWarning: 'squared' is deprecated in version 1.4 and will be removed in 1.6. To calculate the root mean squared error, use the function'root_mean_squared_error'.\n",
      "  warnings.warn(\n"
     ]
    },
    {
     "name": "stdout",
     "output_type": "stream",
     "text": [
      "\n",
      "[Training] Loss: 1.8200 | R²: 0.1482 | MAE: 1.1119 | RMSE: 1.3490\n"
     ]
    },
    {
     "name": "stderr",
     "output_type": "stream",
     "text": [
      "/home/users/thiemea/micromamba/envs/nen_env/lib/python3.10/site-packages/sklearn/metrics/_regression.py:492: FutureWarning: 'squared' is deprecated in version 1.4 and will be removed in 1.6. To calculate the root mean squared error, use the function'root_mean_squared_error'.\n",
      "  warnings.warn(\n"
     ]
    },
    {
     "name": "stdout",
     "output_type": "stream",
     "text": [
      "\n",
      "[Evaluation] R²: 0.1658 | MAE: 1.8120 | RMSE: 2.8260\n",
      "\n",
      "===== Epoch 12/20 =====\n",
      "[Batch 10] Loss: 1.9830\n",
      "[Batch 20] Loss: 1.8467\n",
      "[Batch 30] Loss: 2.1725\n",
      "[Batch 40] Loss: 1.7947\n",
      "[Batch 50] Loss: 1.5576\n",
      "[Batch 60] Loss: 1.5222\n",
      "[Batch 70] Loss: 1.3548\n",
      "[Batch 80] Loss: 0.7956\n",
      "[Batch 90] Loss: 1.6337\n",
      "[Batch 100] Loss: 1.3521\n",
      "[Batch 110] Loss: 1.4951\n",
      "[Batch 120] Loss: 2.0599\n",
      "[Batch 130] Loss: 2.2930\n",
      "[Batch 140] Loss: 1.1614\n",
      "[Batch 150] Loss: 2.0446\n",
      "[Batch 160] Loss: 1.9867\n",
      "[Batch 170] Loss: 1.8336\n"
     ]
    },
    {
     "name": "stderr",
     "output_type": "stream",
     "text": [
      "/home/users/thiemea/micromamba/envs/nen_env/lib/python3.10/site-packages/sklearn/metrics/_regression.py:492: FutureWarning: 'squared' is deprecated in version 1.4 and will be removed in 1.6. To calculate the root mean squared error, use the function'root_mean_squared_error'.\n",
      "  warnings.warn(\n"
     ]
    },
    {
     "name": "stdout",
     "output_type": "stream",
     "text": [
      "\n",
      "[Training] Loss: 1.8196 | R²: 0.1482 | MAE: 1.1119 | RMSE: 1.3490\n"
     ]
    },
    {
     "name": "stderr",
     "output_type": "stream",
     "text": [
      "/home/users/thiemea/micromamba/envs/nen_env/lib/python3.10/site-packages/sklearn/metrics/_regression.py:492: FutureWarning: 'squared' is deprecated in version 1.4 and will be removed in 1.6. To calculate the root mean squared error, use the function'root_mean_squared_error'.\n",
      "  warnings.warn(\n"
     ]
    },
    {
     "name": "stdout",
     "output_type": "stream",
     "text": [
      "\n",
      "[Evaluation] R²: 0.1658 | MAE: 1.8120 | RMSE: 2.8260\n",
      "\n",
      "===== Epoch 13/20 =====\n",
      "[Batch 10] Loss: 2.2757\n",
      "[Batch 20] Loss: 2.4831\n",
      "[Batch 30] Loss: 1.6753\n",
      "[Batch 40] Loss: 2.2095\n",
      "[Batch 50] Loss: 2.2064\n",
      "[Batch 60] Loss: 1.3430\n",
      "[Batch 70] Loss: 1.5940\n",
      "[Batch 80] Loss: 1.6740\n",
      "[Batch 90] Loss: 2.1385\n",
      "[Batch 100] Loss: 1.8467\n",
      "[Batch 110] Loss: 3.2505\n",
      "[Batch 120] Loss: 2.1228\n",
      "[Batch 130] Loss: 1.1760\n",
      "[Batch 140] Loss: 2.2380\n",
      "[Batch 150] Loss: 2.3728\n",
      "[Batch 160] Loss: 1.1308\n",
      "[Batch 170] Loss: 2.1137\n"
     ]
    },
    {
     "name": "stderr",
     "output_type": "stream",
     "text": [
      "/home/users/thiemea/micromamba/envs/nen_env/lib/python3.10/site-packages/sklearn/metrics/_regression.py:492: FutureWarning: 'squared' is deprecated in version 1.4 and will be removed in 1.6. To calculate the root mean squared error, use the function'root_mean_squared_error'.\n",
      "  warnings.warn(\n"
     ]
    },
    {
     "name": "stdout",
     "output_type": "stream",
     "text": [
      "\n",
      "[Training] Loss: 1.8206 | R²: 0.1482 | MAE: 1.1119 | RMSE: 1.3490\n"
     ]
    },
    {
     "name": "stderr",
     "output_type": "stream",
     "text": [
      "/home/users/thiemea/micromamba/envs/nen_env/lib/python3.10/site-packages/sklearn/metrics/_regression.py:492: FutureWarning: 'squared' is deprecated in version 1.4 and will be removed in 1.6. To calculate the root mean squared error, use the function'root_mean_squared_error'.\n",
      "  warnings.warn(\n"
     ]
    },
    {
     "name": "stdout",
     "output_type": "stream",
     "text": [
      "\n",
      "[Evaluation] R²: 0.1658 | MAE: 1.8120 | RMSE: 2.8260\n",
      "\n",
      "===== Epoch 14/20 =====\n",
      "[Batch 10] Loss: 2.6103\n",
      "[Batch 20] Loss: 1.4292\n",
      "[Batch 30] Loss: 1.2370\n",
      "[Batch 40] Loss: 1.4740\n",
      "[Batch 50] Loss: 1.4406\n",
      "[Batch 60] Loss: 1.0099\n",
      "[Batch 70] Loss: 1.9536\n",
      "[Batch 80] Loss: 1.3501\n",
      "[Batch 90] Loss: 1.9903\n",
      "[Batch 100] Loss: 1.3993\n",
      "[Batch 110] Loss: 1.6550\n",
      "[Batch 120] Loss: 2.6194\n",
      "[Batch 130] Loss: 1.5202\n",
      "[Batch 140] Loss: 1.3019\n",
      "[Batch 150] Loss: 3.0384\n",
      "[Batch 160] Loss: 1.5521\n",
      "[Batch 170] Loss: 1.3145\n"
     ]
    },
    {
     "name": "stderr",
     "output_type": "stream",
     "text": [
      "/home/users/thiemea/micromamba/envs/nen_env/lib/python3.10/site-packages/sklearn/metrics/_regression.py:492: FutureWarning: 'squared' is deprecated in version 1.4 and will be removed in 1.6. To calculate the root mean squared error, use the function'root_mean_squared_error'.\n",
      "  warnings.warn(\n"
     ]
    },
    {
     "name": "stdout",
     "output_type": "stream",
     "text": [
      "\n",
      "[Training] Loss: 1.8196 | R²: 0.1482 | MAE: 1.1119 | RMSE: 1.3490\n"
     ]
    },
    {
     "name": "stderr",
     "output_type": "stream",
     "text": [
      "/home/users/thiemea/micromamba/envs/nen_env/lib/python3.10/site-packages/sklearn/metrics/_regression.py:492: FutureWarning: 'squared' is deprecated in version 1.4 and will be removed in 1.6. To calculate the root mean squared error, use the function'root_mean_squared_error'.\n",
      "  warnings.warn(\n"
     ]
    },
    {
     "name": "stdout",
     "output_type": "stream",
     "text": [
      "\n",
      "[Evaluation] R²: 0.1658 | MAE: 1.8120 | RMSE: 2.8260\n",
      "\n",
      "===== Epoch 15/20 =====\n",
      "[Batch 10] Loss: 1.2655\n",
      "[Batch 20] Loss: 2.0825\n",
      "[Batch 30] Loss: 1.1922\n",
      "[Batch 40] Loss: 1.7700\n",
      "[Batch 50] Loss: 1.2546\n",
      "[Batch 60] Loss: 3.0482\n",
      "[Batch 70] Loss: 0.9671\n",
      "[Batch 80] Loss: 1.2989\n",
      "[Batch 90] Loss: 1.6292\n",
      "[Batch 100] Loss: 1.8337\n",
      "[Batch 110] Loss: 1.3280\n",
      "[Batch 120] Loss: 1.9950\n",
      "[Batch 130] Loss: 1.3226\n",
      "[Batch 140] Loss: 1.1069\n",
      "[Batch 150] Loss: 2.8025\n",
      "[Batch 160] Loss: 2.1017\n",
      "[Batch 170] Loss: 1.8394\n"
     ]
    },
    {
     "name": "stderr",
     "output_type": "stream",
     "text": [
      "/home/users/thiemea/micromamba/envs/nen_env/lib/python3.10/site-packages/sklearn/metrics/_regression.py:492: FutureWarning: 'squared' is deprecated in version 1.4 and will be removed in 1.6. To calculate the root mean squared error, use the function'root_mean_squared_error'.\n",
      "  warnings.warn(\n"
     ]
    },
    {
     "name": "stdout",
     "output_type": "stream",
     "text": [
      "\n",
      "[Training] Loss: 1.8194 | R²: 0.1482 | MAE: 1.1119 | RMSE: 1.3490\n"
     ]
    },
    {
     "name": "stderr",
     "output_type": "stream",
     "text": [
      "/home/users/thiemea/micromamba/envs/nen_env/lib/python3.10/site-packages/sklearn/metrics/_regression.py:492: FutureWarning: 'squared' is deprecated in version 1.4 and will be removed in 1.6. To calculate the root mean squared error, use the function'root_mean_squared_error'.\n",
      "  warnings.warn(\n"
     ]
    },
    {
     "name": "stdout",
     "output_type": "stream",
     "text": [
      "\n",
      "[Evaluation] R²: 0.1658 | MAE: 1.8120 | RMSE: 2.8260\n",
      "\n",
      "===== Epoch 16/20 =====\n",
      "[Batch 10] Loss: 2.1481\n",
      "[Batch 20] Loss: 2.2287\n",
      "[Batch 30] Loss: 1.2389\n",
      "[Batch 40] Loss: 2.2483\n",
      "[Batch 50] Loss: 3.2804\n",
      "[Batch 60] Loss: 1.9558\n",
      "[Batch 70] Loss: 2.7353\n",
      "[Batch 80] Loss: 2.1205\n",
      "[Batch 90] Loss: 1.1242\n",
      "[Batch 100] Loss: 1.8477\n",
      "[Batch 110] Loss: 2.2743\n",
      "[Batch 120] Loss: 1.6337\n",
      "[Batch 130] Loss: 1.8653\n",
      "[Batch 140] Loss: 1.7267\n",
      "[Batch 150] Loss: 2.1779\n",
      "[Batch 160] Loss: 1.7878\n",
      "[Batch 170] Loss: 2.0062\n"
     ]
    },
    {
     "name": "stderr",
     "output_type": "stream",
     "text": [
      "/home/users/thiemea/micromamba/envs/nen_env/lib/python3.10/site-packages/sklearn/metrics/_regression.py:492: FutureWarning: 'squared' is deprecated in version 1.4 and will be removed in 1.6. To calculate the root mean squared error, use the function'root_mean_squared_error'.\n",
      "  warnings.warn(\n"
     ]
    },
    {
     "name": "stdout",
     "output_type": "stream",
     "text": [
      "\n",
      "[Training] Loss: 1.8193 | R²: 0.1482 | MAE: 1.1119 | RMSE: 1.3490\n"
     ]
    },
    {
     "name": "stderr",
     "output_type": "stream",
     "text": [
      "/home/users/thiemea/micromamba/envs/nen_env/lib/python3.10/site-packages/sklearn/metrics/_regression.py:492: FutureWarning: 'squared' is deprecated in version 1.4 and will be removed in 1.6. To calculate the root mean squared error, use the function'root_mean_squared_error'.\n",
      "  warnings.warn(\n"
     ]
    },
    {
     "name": "stdout",
     "output_type": "stream",
     "text": [
      "\n",
      "[Evaluation] R²: 0.1658 | MAE: 1.8120 | RMSE: 2.8260\n",
      "\n",
      "===== Epoch 17/20 =====\n",
      "[Batch 10] Loss: 2.5159\n",
      "[Batch 20] Loss: 0.8492\n",
      "[Batch 30] Loss: 1.6079\n",
      "[Batch 40] Loss: 0.9782\n",
      "[Batch 50] Loss: 1.1250\n",
      "[Batch 60] Loss: 1.7647\n",
      "[Batch 70] Loss: 2.2420\n",
      "[Batch 80] Loss: 2.2387\n",
      "[Batch 90] Loss: 2.1252\n",
      "[Batch 100] Loss: 1.7381\n",
      "[Batch 110] Loss: 1.6404\n",
      "[Batch 120] Loss: 3.0744\n",
      "[Batch 130] Loss: 1.2622\n",
      "[Batch 140] Loss: 1.9499\n",
      "[Batch 150] Loss: 1.4449\n",
      "[Batch 160] Loss: 1.6221\n",
      "[Batch 170] Loss: 1.4434\n"
     ]
    },
    {
     "name": "stderr",
     "output_type": "stream",
     "text": [
      "/home/users/thiemea/micromamba/envs/nen_env/lib/python3.10/site-packages/sklearn/metrics/_regression.py:492: FutureWarning: 'squared' is deprecated in version 1.4 and will be removed in 1.6. To calculate the root mean squared error, use the function'root_mean_squared_error'.\n",
      "  warnings.warn(\n"
     ]
    },
    {
     "name": "stdout",
     "output_type": "stream",
     "text": [
      "\n",
      "[Training] Loss: 1.8198 | R²: 0.1482 | MAE: 1.1119 | RMSE: 1.3490\n"
     ]
    },
    {
     "name": "stderr",
     "output_type": "stream",
     "text": [
      "/home/users/thiemea/micromamba/envs/nen_env/lib/python3.10/site-packages/sklearn/metrics/_regression.py:492: FutureWarning: 'squared' is deprecated in version 1.4 and will be removed in 1.6. To calculate the root mean squared error, use the function'root_mean_squared_error'.\n",
      "  warnings.warn(\n"
     ]
    },
    {
     "name": "stdout",
     "output_type": "stream",
     "text": [
      "\n",
      "[Evaluation] R²: 0.1658 | MAE: 1.8120 | RMSE: 2.8260\n",
      "\n",
      "===== Epoch 18/20 =====\n",
      "[Batch 10] Loss: 1.4892\n",
      "[Batch 20] Loss: 1.1391\n",
      "[Batch 30] Loss: 2.3301\n",
      "[Batch 40] Loss: 1.4893\n",
      "[Batch 50] Loss: 1.5213\n",
      "[Batch 60] Loss: 1.8120\n",
      "[Batch 70] Loss: 1.7872\n",
      "[Batch 80] Loss: 1.6005\n",
      "[Batch 90] Loss: 1.7508\n",
      "[Batch 100] Loss: 2.6606\n",
      "[Batch 110] Loss: 1.7567\n",
      "[Batch 120] Loss: 1.5255\n",
      "[Batch 130] Loss: 1.6701\n",
      "[Batch 140] Loss: 1.2246\n",
      "[Batch 150] Loss: 2.1641\n",
      "[Batch 160] Loss: 1.8905\n",
      "[Batch 170] Loss: 1.6515\n"
     ]
    },
    {
     "name": "stderr",
     "output_type": "stream",
     "text": [
      "/home/users/thiemea/micromamba/envs/nen_env/lib/python3.10/site-packages/sklearn/metrics/_regression.py:492: FutureWarning: 'squared' is deprecated in version 1.4 and will be removed in 1.6. To calculate the root mean squared error, use the function'root_mean_squared_error'.\n",
      "  warnings.warn(\n"
     ]
    },
    {
     "name": "stdout",
     "output_type": "stream",
     "text": [
      "\n",
      "[Training] Loss: 1.8198 | R²: 0.1482 | MAE: 1.1119 | RMSE: 1.3490\n"
     ]
    },
    {
     "name": "stderr",
     "output_type": "stream",
     "text": [
      "/home/users/thiemea/micromamba/envs/nen_env/lib/python3.10/site-packages/sklearn/metrics/_regression.py:492: FutureWarning: 'squared' is deprecated in version 1.4 and will be removed in 1.6. To calculate the root mean squared error, use the function'root_mean_squared_error'.\n",
      "  warnings.warn(\n"
     ]
    },
    {
     "name": "stdout",
     "output_type": "stream",
     "text": [
      "\n",
      "[Evaluation] R²: 0.1658 | MAE: 1.8120 | RMSE: 2.8260\n",
      "\n",
      "===== Epoch 19/20 =====\n",
      "[Batch 10] Loss: 1.9887\n",
      "[Batch 20] Loss: 1.3984\n",
      "[Batch 30] Loss: 2.2800\n",
      "[Batch 40] Loss: 1.3633\n",
      "[Batch 50] Loss: 2.0772\n",
      "[Batch 60] Loss: 1.7734\n",
      "[Batch 70] Loss: 1.7584\n",
      "[Batch 80] Loss: 1.2876\n",
      "[Batch 90] Loss: 3.4366\n",
      "[Batch 100] Loss: 1.6585\n",
      "[Batch 110] Loss: 1.9350\n",
      "[Batch 120] Loss: 1.1208\n",
      "[Batch 130] Loss: 1.2273\n"
     ]
    },
    {
     "ename": "KeyboardInterrupt",
     "evalue": "",
     "output_type": "error",
     "traceback": [
      "\u001b[0;31m---------------------------------------------------------------------------\u001b[0m",
      "\u001b[0;31mKeyboardInterrupt\u001b[0m                         Traceback (most recent call last)",
      "Cell \u001b[0;32mIn[22], line 68\u001b[0m\n\u001b[1;32m     66\u001b[0m \u001b[38;5;28;01mfor\u001b[39;00m epoch \u001b[38;5;129;01min\u001b[39;00m \u001b[38;5;28mrange\u001b[39m(\u001b[38;5;241m1\u001b[39m, num_epochs \u001b[38;5;241m+\u001b[39m \u001b[38;5;241m1\u001b[39m):\n\u001b[1;32m     67\u001b[0m     \u001b[38;5;28mprint\u001b[39m(\u001b[38;5;124mf\u001b[39m\u001b[38;5;124m\"\u001b[39m\u001b[38;5;130;01m\\n\u001b[39;00m\u001b[38;5;124m===== Epoch \u001b[39m\u001b[38;5;132;01m{\u001b[39;00mepoch\u001b[38;5;132;01m}\u001b[39;00m\u001b[38;5;124m/\u001b[39m\u001b[38;5;132;01m{\u001b[39;00mnum_epochs\u001b[38;5;132;01m}\u001b[39;00m\u001b[38;5;124m =====\u001b[39m\u001b[38;5;124m\"\u001b[39m)\n\u001b[0;32m---> 68\u001b[0m     train_metrics \u001b[38;5;241m=\u001b[39m \u001b[43mtrain_one_epoch\u001b[49m\u001b[43m(\u001b[49m\u001b[43mmodel\u001b[49m\u001b[43m,\u001b[49m\u001b[43m \u001b[49m\u001b[43mdata\u001b[49m\u001b[43m,\u001b[49m\u001b[43m \u001b[49m\u001b[43mtrain_loader\u001b[49m\u001b[43m,\u001b[49m\u001b[43m \u001b[49m\u001b[43moptimizer\u001b[49m\u001b[43m,\u001b[49m\u001b[43m \u001b[49m\u001b[43mdevice\u001b[49m\u001b[43m)\u001b[49m\n\u001b[1;32m     69\u001b[0m     val_metrics, y_true_val, y_pred_val \u001b[38;5;241m=\u001b[39m evaluate(model, data, val_loader, device, inverse_transform_fn\u001b[38;5;241m=\u001b[39minverse_transform_fn)\n\u001b[1;32m     71\u001b[0m     \u001b[38;5;28;01mif\u001b[39;00m val_metrics[\u001b[38;5;124m'\u001b[39m\u001b[38;5;124mr2\u001b[39m\u001b[38;5;124m'\u001b[39m] \u001b[38;5;241m>\u001b[39m best_val_r2:\n",
      "Cell \u001b[0;32mIn[22], line 15\u001b[0m, in \u001b[0;36mtrain_one_epoch\u001b[0;34m(model, data, dataloader, optimizer, device)\u001b[0m\n\u001b[1;32m     12\u001b[0m loss \u001b[38;5;241m=\u001b[39m F\u001b[38;5;241m.\u001b[39mmse_loss(preds, labels)\n\u001b[1;32m     14\u001b[0m loss\u001b[38;5;241m.\u001b[39mbackward()\n\u001b[0;32m---> 15\u001b[0m \u001b[43mtorch\u001b[49m\u001b[38;5;241;43m.\u001b[39;49m\u001b[43mnn\u001b[49m\u001b[38;5;241;43m.\u001b[39;49m\u001b[43mutils\u001b[49m\u001b[38;5;241;43m.\u001b[39;49m\u001b[43mclip_grad_norm_\u001b[49m\u001b[43m(\u001b[49m\u001b[43mmodel\u001b[49m\u001b[38;5;241;43m.\u001b[39;49m\u001b[43mparameters\u001b[49m\u001b[43m(\u001b[49m\u001b[43m)\u001b[49m\u001b[43m,\u001b[49m\u001b[43m \u001b[49m\u001b[43mmax_norm\u001b[49m\u001b[38;5;241;43m=\u001b[39;49m\u001b[38;5;241;43m1.0\u001b[39;49m\u001b[43m)\u001b[49m\n\u001b[1;32m     16\u001b[0m optimizer\u001b[38;5;241m.\u001b[39mstep()\n\u001b[1;32m     18\u001b[0m y_true\u001b[38;5;241m.\u001b[39mextend(labels\u001b[38;5;241m.\u001b[39mdetach()\u001b[38;5;241m.\u001b[39mcpu()\u001b[38;5;241m.\u001b[39mnumpy())\n",
      "File \u001b[0;32m~/micromamba/envs/nen_env/lib/python3.10/site-packages/torch/nn/utils/clip_grad.py:34\u001b[0m, in \u001b[0;36m_no_grad.<locals>._no_grad_wrapper\u001b[0;34m(*args, **kwargs)\u001b[0m\n\u001b[1;32m     32\u001b[0m \u001b[38;5;28;01mdef\u001b[39;00m\u001b[38;5;250m \u001b[39m\u001b[38;5;21m_no_grad_wrapper\u001b[39m(\u001b[38;5;241m*\u001b[39margs, \u001b[38;5;241m*\u001b[39m\u001b[38;5;241m*\u001b[39mkwargs):\n\u001b[1;32m     33\u001b[0m     \u001b[38;5;28;01mwith\u001b[39;00m torch\u001b[38;5;241m.\u001b[39mno_grad():\n\u001b[0;32m---> 34\u001b[0m         \u001b[38;5;28;01mreturn\u001b[39;00m \u001b[43mfunc\u001b[49m\u001b[43m(\u001b[49m\u001b[38;5;241;43m*\u001b[39;49m\u001b[43margs\u001b[49m\u001b[43m,\u001b[49m\u001b[43m \u001b[49m\u001b[38;5;241;43m*\u001b[39;49m\u001b[38;5;241;43m*\u001b[39;49m\u001b[43mkwargs\u001b[49m\u001b[43m)\u001b[49m\n",
      "File \u001b[0;32m~/micromamba/envs/nen_env/lib/python3.10/site-packages/torch/nn/utils/clip_grad.py:216\u001b[0m, in \u001b[0;36mclip_grad_norm_\u001b[0;34m(parameters, max_norm, norm_type, error_if_nonfinite, foreach)\u001b[0m\n\u001b[1;32m    214\u001b[0m grads \u001b[38;5;241m=\u001b[39m [p\u001b[38;5;241m.\u001b[39mgrad \u001b[38;5;28;01mfor\u001b[39;00m p \u001b[38;5;129;01min\u001b[39;00m parameters \u001b[38;5;28;01mif\u001b[39;00m p\u001b[38;5;241m.\u001b[39mgrad \u001b[38;5;129;01mis\u001b[39;00m \u001b[38;5;129;01mnot\u001b[39;00m \u001b[38;5;28;01mNone\u001b[39;00m]\n\u001b[1;32m    215\u001b[0m total_norm \u001b[38;5;241m=\u001b[39m _get_total_norm(grads, norm_type, error_if_nonfinite, foreach)\n\u001b[0;32m--> 216\u001b[0m \u001b[43m_clip_grads_with_norm_\u001b[49m\u001b[43m(\u001b[49m\u001b[43mparameters\u001b[49m\u001b[43m,\u001b[49m\u001b[43m \u001b[49m\u001b[43mmax_norm\u001b[49m\u001b[43m,\u001b[49m\u001b[43m \u001b[49m\u001b[43mtotal_norm\u001b[49m\u001b[43m,\u001b[49m\u001b[43m \u001b[49m\u001b[43mforeach\u001b[49m\u001b[43m)\u001b[49m\n\u001b[1;32m    217\u001b[0m \u001b[38;5;28;01mreturn\u001b[39;00m total_norm\n",
      "File \u001b[0;32m~/micromamba/envs/nen_env/lib/python3.10/site-packages/torch/nn/utils/clip_grad.py:34\u001b[0m, in \u001b[0;36m_no_grad.<locals>._no_grad_wrapper\u001b[0;34m(*args, **kwargs)\u001b[0m\n\u001b[1;32m     32\u001b[0m \u001b[38;5;28;01mdef\u001b[39;00m\u001b[38;5;250m \u001b[39m\u001b[38;5;21m_no_grad_wrapper\u001b[39m(\u001b[38;5;241m*\u001b[39margs, \u001b[38;5;241m*\u001b[39m\u001b[38;5;241m*\u001b[39mkwargs):\n\u001b[1;32m     33\u001b[0m     \u001b[38;5;28;01mwith\u001b[39;00m torch\u001b[38;5;241m.\u001b[39mno_grad():\n\u001b[0;32m---> 34\u001b[0m         \u001b[38;5;28;01mreturn\u001b[39;00m \u001b[43mfunc\u001b[49m\u001b[43m(\u001b[49m\u001b[38;5;241;43m*\u001b[39;49m\u001b[43margs\u001b[49m\u001b[43m,\u001b[49m\u001b[43m \u001b[49m\u001b[38;5;241;43m*\u001b[39;49m\u001b[38;5;241;43m*\u001b[39;49m\u001b[43mkwargs\u001b[49m\u001b[43m)\u001b[49m\n",
      "File \u001b[0;32m~/micromamba/envs/nen_env/lib/python3.10/site-packages/torch/nn/utils/clip_grad.py:164\u001b[0m, in \u001b[0;36m_clip_grads_with_norm_\u001b[0;34m(parameters, max_norm, total_norm, foreach)\u001b[0m\n\u001b[1;32m    160\u001b[0m \u001b[38;5;28;01mfor\u001b[39;00m (device, _), ([device_grads], _) \u001b[38;5;129;01min\u001b[39;00m grouped_grads\u001b[38;5;241m.\u001b[39mitems():\n\u001b[1;32m    161\u001b[0m     \u001b[38;5;28;01mif\u001b[39;00m (foreach \u001b[38;5;129;01mis\u001b[39;00m \u001b[38;5;28;01mNone\u001b[39;00m \u001b[38;5;129;01mand\u001b[39;00m _has_foreach_support(device_grads, device)) \u001b[38;5;129;01mor\u001b[39;00m (\n\u001b[1;32m    162\u001b[0m         foreach \u001b[38;5;129;01mand\u001b[39;00m _device_has_foreach_support(device)\n\u001b[1;32m    163\u001b[0m     ):\n\u001b[0;32m--> 164\u001b[0m         \u001b[43mtorch\u001b[49m\u001b[38;5;241;43m.\u001b[39;49m\u001b[43m_foreach_mul_\u001b[49m\u001b[43m(\u001b[49m\u001b[43mdevice_grads\u001b[49m\u001b[43m,\u001b[49m\u001b[43m \u001b[49m\u001b[43mclip_coef_clamped\u001b[49m\u001b[38;5;241;43m.\u001b[39;49m\u001b[43mto\u001b[49m\u001b[43m(\u001b[49m\u001b[43mdevice\u001b[49m\u001b[43m)\u001b[49m\u001b[43m)\u001b[49m\n\u001b[1;32m    165\u001b[0m     \u001b[38;5;28;01melif\u001b[39;00m foreach:\n\u001b[1;32m    166\u001b[0m         \u001b[38;5;28;01mraise\u001b[39;00m \u001b[38;5;167;01mRuntimeError\u001b[39;00m(\n\u001b[1;32m    167\u001b[0m             \u001b[38;5;124mf\u001b[39m\u001b[38;5;124m\"\u001b[39m\u001b[38;5;124mforeach=True was passed, but can\u001b[39m\u001b[38;5;124m'\u001b[39m\u001b[38;5;124mt use the foreach API on \u001b[39m\u001b[38;5;132;01m{\u001b[39;00mdevice\u001b[38;5;241m.\u001b[39mtype\u001b[38;5;132;01m}\u001b[39;00m\u001b[38;5;124m tensors\u001b[39m\u001b[38;5;124m\"\u001b[39m\n\u001b[1;32m    168\u001b[0m         )\n",
      "\u001b[0;31mKeyboardInterrupt\u001b[0m: "
     ]
    }
   ],
   "source": [
    "def train_one_epoch(model, data, dataloader, optimizer, device):\n",
    "    model.train()\n",
    "    total_loss = 0.0\n",
    "    y_true, y_pred = [], []\n",
    "\n",
    "    for batch_idx, (query_node_indices, labels) in enumerate(dataloader):\n",
    "        query_node_indices = query_node_indices.to(device)\n",
    "        labels = labels.to(device)\n",
    "\n",
    "        optimizer.zero_grad()\n",
    "        preds = model(data, query_node_indices)\n",
    "        loss = F.mse_loss(preds, labels)\n",
    "\n",
    "        loss.backward()\n",
    "        torch.nn.utils.clip_grad_norm_(model.parameters(), max_norm=1.0)\n",
    "        optimizer.step()\n",
    "\n",
    "        y_true.extend(labels.detach().cpu().numpy())\n",
    "        y_pred.extend(preds.detach().cpu().numpy())\n",
    "        total_loss += loss.item()\n",
    "\n",
    "        if (batch_idx + 1) % 10 == 0:\n",
    "            print(f\"[Batch {batch_idx+1}] Loss: {loss.item():.4f}\")\n",
    "\n",
    "    avg_loss = total_loss / len(dataloader)\n",
    "    r2 = r2_score(y_true, y_pred)\n",
    "    mae = mean_absolute_error(y_true, y_pred)\n",
    "    rmse = mean_squared_error(y_true, y_pred, squared=False)\n",
    "\n",
    "    print(f\"\\n[Training] Loss: {avg_loss:.4f} | R²: {r2:.4f} | MAE: {mae:.4f} | RMSE: {rmse:.4f}\")\n",
    "    return {'loss': avg_loss, 'r2': r2, 'mae': mae, 'rmse': rmse}\n",
    "\n",
    "\n",
    "def evaluate(model, data, dataloader, device, inverse_transform_fn=None):\n",
    "    model.eval()\n",
    "    y_true, y_pred = [], []\n",
    "\n",
    "    with torch.no_grad():\n",
    "        for query_node_indices, labels in dataloader:\n",
    "            query_node_indices = query_node_indices.to(device)\n",
    "            labels = labels.to(device)\n",
    "\n",
    "            preds = model(data, query_node_indices)\n",
    "\n",
    "            y_true.extend(labels.cpu().numpy())\n",
    "            y_pred.extend(preds.cpu().numpy())\n",
    "\n",
    "    if inverse_transform_fn:\n",
    "        y_true = inverse_transform_fn(np.array(y_true))\n",
    "        y_pred = inverse_transform_fn(np.array(y_pred))\n",
    "\n",
    "    r2 = r2_score(y_true, y_pred)\n",
    "    mae = mean_absolute_error(y_true, y_pred)\n",
    "    rmse = mean_squared_error(y_true, y_pred, squared=False)\n",
    "\n",
    "    print(f\"\\n[Evaluation] R²: {r2:.4f} | MAE: {mae:.4f} | RMSE: {rmse:.4f}\")\n",
    "    return {'r2': r2, 'mae': mae, 'rmse': rmse}, y_true, y_pred\n",
    "\n",
    "\n",
    "# Training loop across multiple epochs\n",
    "num_epochs = 20\n",
    "best_val_r2 = -float('inf')\n",
    "lmbda = 0.03760410204704832\n",
    "inverse_transform_fn = lambda x: inv_boxcox(x, lmbda)\n",
    "\n",
    "for epoch in range(1, num_epochs + 1):\n",
    "    print(f\"\\n===== Epoch {epoch}/{num_epochs} =====\")\n",
    "    train_metrics = train_one_epoch(model, data, train_loader, optimizer, device)\n",
    "    val_metrics, y_true_val, y_pred_val = evaluate(model, data, val_loader, device, inverse_transform_fn=inverse_transform_fn)\n",
    "\n",
    "    if val_metrics['r2'] > best_val_r2:\n",
    "        best_val_r2 = val_metrics['r2']\n",
    "        torch.save(model.state_dict(), 'best_model_regression.pt')\n",
    "        print(f\"New best model saved with R²: {best_val_r2:.4f}\")"
   ]
  },
  {
   "cell_type": "code",
   "execution_count": 23,
   "metadata": {},
   "outputs": [],
   "source": [
    "model = train_utils.load_model(GNNRegressor, input_dim=input_dim, hidden_dim=512, output_dim=128, path=\"best_model_regression.pt\")"
   ]
  },
  {
   "cell_type": "code",
   "execution_count": 24,
   "metadata": {},
   "outputs": [],
   "source": [
    "test_df = pd.read_csv('../data/perturbation_screens/e_distance/test.csv')\n",
    "\n",
    "test_dataset = PerturbationDataset(\n",
    "    test_df,\n",
    "    active_nodes_df,\n",
    "    node_features_df,\n",
    "    node_to_idx,\n",
    "    device=device\n",
    ")\n",
    "\n",
    "test_loader = DataLoader(test_dataset, batch_size=16, shuffle=False, collate_fn=collate_function)"
   ]
  },
  {
   "cell_type": "code",
   "execution_count": 25,
   "metadata": {},
   "outputs": [
    {
     "name": "stdout",
     "output_type": "stream",
     "text": [
      "\n",
      "[Evaluation] R²: -3.2072 | MAE: 2.2556 | RMSE: 6.7193\n",
      "{'r2': -3.2071919441223145, 'mae': np.float32(2.2556434), 'rmse': np.float32(6.719266)}\n"
     ]
    },
    {
     "name": "stderr",
     "output_type": "stream",
     "text": [
      "/home/users/thiemea/micromamba/envs/nen_env/lib/python3.10/site-packages/sklearn/metrics/_regression.py:492: FutureWarning: 'squared' is deprecated in version 1.4 and will be removed in 1.6. To calculate the root mean squared error, use the function'root_mean_squared_error'.\n",
      "  warnings.warn(\n"
     ]
    }
   ],
   "source": [
    "test_metrics, y_true, y_pred = evaluate(model, data, test_loader, device, inverse_transform_fn=inverse_transform_fn)\n",
    "print(test_metrics)"
   ]
  },
  {
   "cell_type": "code",
   "execution_count": 26,
   "metadata": {},
   "outputs": [
    {
     "data": {
      "text/html": [
       "<div>\n",
       "<style scoped>\n",
       "    .dataframe tbody tr th:only-of-type {\n",
       "        vertical-align: middle;\n",
       "    }\n",
       "\n",
       "    .dataframe tbody tr th {\n",
       "        vertical-align: top;\n",
       "    }\n",
       "\n",
       "    .dataframe thead th {\n",
       "        text-align: right;\n",
       "    }\n",
       "</style>\n",
       "<table border=\"1\" class=\"dataframe\">\n",
       "  <thead>\n",
       "    <tr style=\"text-align: right;\">\n",
       "      <th></th>\n",
       "      <th>y_true</th>\n",
       "      <th>y_pred</th>\n",
       "    </tr>\n",
       "  </thead>\n",
       "  <tbody>\n",
       "    <tr>\n",
       "      <th>0</th>\n",
       "      <td>0.692725</td>\n",
       "      <td>1.634421</td>\n",
       "    </tr>\n",
       "    <tr>\n",
       "      <th>1</th>\n",
       "      <td>0.141342</td>\n",
       "      <td>1.913493</td>\n",
       "    </tr>\n",
       "    <tr>\n",
       "      <th>2</th>\n",
       "      <td>1.657657</td>\n",
       "      <td>2.794052</td>\n",
       "    </tr>\n",
       "    <tr>\n",
       "      <th>3</th>\n",
       "      <td>2.525064</td>\n",
       "      <td>1.343393</td>\n",
       "    </tr>\n",
       "    <tr>\n",
       "      <th>4</th>\n",
       "      <td>0.111707</td>\n",
       "      <td>0.536738</td>\n",
       "    </tr>\n",
       "    <tr>\n",
       "      <th>...</th>\n",
       "      <td>...</td>\n",
       "      <td>...</td>\n",
       "    </tr>\n",
       "    <tr>\n",
       "      <th>791</th>\n",
       "      <td>1.646705</td>\n",
       "      <td>1.115803</td>\n",
       "    </tr>\n",
       "    <tr>\n",
       "      <th>792</th>\n",
       "      <td>7.186268</td>\n",
       "      <td>1.406069</td>\n",
       "    </tr>\n",
       "    <tr>\n",
       "      <th>793</th>\n",
       "      <td>0.269451</td>\n",
       "      <td>2.572081</td>\n",
       "    </tr>\n",
       "    <tr>\n",
       "      <th>794</th>\n",
       "      <td>1.400873</td>\n",
       "      <td>1.878057</td>\n",
       "    </tr>\n",
       "    <tr>\n",
       "      <th>795</th>\n",
       "      <td>0.130404</td>\n",
       "      <td>0.586716</td>\n",
       "    </tr>\n",
       "  </tbody>\n",
       "</table>\n",
       "<p>796 rows × 2 columns</p>\n",
       "</div>"
      ],
      "text/plain": [
       "       y_true    y_pred\n",
       "0    0.692725  1.634421\n",
       "1    0.141342  1.913493\n",
       "2    1.657657  2.794052\n",
       "3    2.525064  1.343393\n",
       "4    0.111707  0.536738\n",
       "..        ...       ...\n",
       "791  1.646705  1.115803\n",
       "792  7.186268  1.406069\n",
       "793  0.269451  2.572081\n",
       "794  1.400873  1.878057\n",
       "795  0.130404  0.586716\n",
       "\n",
       "[796 rows x 2 columns]"
      ]
     },
     "execution_count": 26,
     "metadata": {},
     "output_type": "execute_result"
    }
   ],
   "source": [
    "result_df = pd.DataFrame({'y_true': y_true, 'y_pred': y_pred})\n",
    "result_df"
   ]
  },
  {
   "cell_type": "code",
   "execution_count": 27,
   "metadata": {},
   "outputs": [
    {
     "name": "stdout",
     "output_type": "stream",
     "text": [
      "n_outlier=1\n"
     ]
    },
    {
     "data": {
      "text/plain": [
       "(0.0, 25.0)"
      ]
     },
     "execution_count": 27,
     "metadata": {},
     "output_type": "execute_result"
    },
    {
     "data": {
      "image/png": "[encoded data removed]",
      "text/plain": [
       "<Figure size 640x480 with 1 Axes>"
      ]
     },
     "metadata": {},
     "output_type": "display_data"
    }
   ],
   "source": [
    "\n",
    "\n",
    "sns.regplot(result_df, x=y_true, y=y_pred, line_kws=dict(color=\"r\"))\n",
    "n_outlier = int((y_pred > 20).sum())\n",
    "if n_outlier > 0:\n",
    "    print(f'{n_outlier=}')\n",
    "plt.xlim(0, 25)\n",
    "plt.ylim(0, 25)"
   ]
  },
  {
   "cell_type": "code",
   "execution_count": 16,
   "metadata": {},
   "outputs": [
    {
     "data": {
      "text/plain": [
       "np.int64(1)"
      ]
     },
     "execution_count": 16,
     "metadata": {},
     "output_type": "execute_result"
    }
   ],
   "source": [
    "(y_pred > 100).sum()"
   ]
  },
  {
   "cell_type": "code",
   "execution_count": 13,
   "metadata": {},
   "outputs": [
    {
     "data": {
      "image/png": "[encoded data removed]",
      "text/plain": [
       "<Figure size 600x500 with 1 Axes>"
      ]
     },
     "metadata": {},
     "output_type": "display_data"
    }
   ],
   "source": [
    "train_utils.plot_precision_recall(y_true, y_prob)"
   ]
  },
  {
   "cell_type": "code",
   "execution_count": 14,
   "metadata": {},
   "outputs": [
    {
     "data": {
      "image/png": "[encoded data removed]",
      "text/plain": [
       "<Figure size 700x500 with 1 Axes>"
      ]
     },
     "metadata": {},
     "output_type": "display_data"
    }
   ],
   "source": [
    "train_utils.plot_prediction_histograms(y_true, y_prob)"
   ]
  },
  {
   "cell_type": "code",
   "execution_count": null,
   "metadata": {},
   "outputs": [],
   "source": []
  }
 ],
 "metadata": {
  "kernelspec": {
   "display_name": "Python 3",
   "language": "python",
   "name": "python3"
  },
  "language_info": {
   "codemirror_mode": {
    "name": "ipython",
    "version": 3
   },
   "file_extension": ".py",
   "mimetype": "text/x-python",
   "name": "python",
   "nbconvert_exporter": "python",
   "pygments_lexer": "ipython3",
   "version": "3.10.17"
  }
 },
 "nbformat": 4,
 "nbformat_minor": 2
}
