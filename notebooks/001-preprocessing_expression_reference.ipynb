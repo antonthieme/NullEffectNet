{
 "cells": [
  {
   "cell_type": "code",
   "execution_count": 1,
   "metadata": {},
   "outputs": [],
   "source": [
    "import anndata as ad\n",
    "import torch\n",
    "import pandas as pd\n",
    "import requests\n",
    "import sys\n",
    "import os\n",
    "import scanpy as sc\n",
    "#import pertpy as pt      # comment-out when using nen_env\n",
    "import re\n",
    "import numpy as np\n",
    "import matplotlib.pyplot as plt\n",
    "import seaborn as sns\n",
    "import ast\n",
    "import pickle\n",
    "from scipy.stats import wasserstein_distance, permutation_test\n",
    "from scipy.spatial.distance import cdist, pdist, squareform\n",
    "\n",
    "from dotenv import find_dotenv, load_dotenv\n",
    "\n",
    "load_dotenv(find_dotenv())\n",
    "\n",
    "sys.path.append('../src/null-effect-net')\n",
    "\n",
    "import utils            # comment-out when using pertpy_env"
   ]
  },
  {
   "cell_type": "code",
   "execution_count": 2,
   "metadata": {},
   "outputs": [],
   "source": [
    "df_expr_ref_celline = pd.read_csv('../data/expression_reference/rna_celline.tsv', sep='\\t')\n",
    "df_expr_ref_cell_type = pd.read_csv('../data/expression_reference/rna_single_cell_type.tsv', sep='\\t')"
   ]
  },
  {
   "cell_type": "code",
   "execution_count": 3,
   "metadata": {},
   "outputs": [
    {
     "data": {
      "text/html": [
       "<div>\n",
       "<style scoped>\n",
       "    .dataframe tbody tr th:only-of-type {\n",
       "        vertical-align: middle;\n",
       "    }\n",
       "\n",
       "    .dataframe tbody tr th {\n",
       "        vertical-align: top;\n",
       "    }\n",
       "\n",
       "    .dataframe thead th {\n",
       "        text-align: right;\n",
       "    }\n",
       "</style>\n",
       "<table border=\"1\" class=\"dataframe\">\n",
       "  <thead>\n",
       "    <tr style=\"text-align: right;\">\n",
       "      <th></th>\n",
       "      <th>Gene</th>\n",
       "      <th>Gene name</th>\n",
       "      <th>Cell type</th>\n",
       "      <th>nTPM</th>\n",
       "    </tr>\n",
       "  </thead>\n",
       "  <tbody>\n",
       "    <tr>\n",
       "      <th>0</th>\n",
       "      <td>ENSG00000000003</td>\n",
       "      <td>TSPAN6</td>\n",
       "      <td>Adipocytes</td>\n",
       "      <td>147.5</td>\n",
       "    </tr>\n",
       "    <tr>\n",
       "      <th>1</th>\n",
       "      <td>ENSG00000000003</td>\n",
       "      <td>TSPAN6</td>\n",
       "      <td>Alveolar cells type 1</td>\n",
       "      <td>6.0</td>\n",
       "    </tr>\n",
       "    <tr>\n",
       "      <th>2</th>\n",
       "      <td>ENSG00000000003</td>\n",
       "      <td>TSPAN6</td>\n",
       "      <td>Alveolar cells type 2</td>\n",
       "      <td>10.9</td>\n",
       "    </tr>\n",
       "    <tr>\n",
       "      <th>3</th>\n",
       "      <td>ENSG00000000003</td>\n",
       "      <td>TSPAN6</td>\n",
       "      <td>Astrocytes</td>\n",
       "      <td>13.6</td>\n",
       "    </tr>\n",
       "    <tr>\n",
       "      <th>4</th>\n",
       "      <td>ENSG00000000003</td>\n",
       "      <td>TSPAN6</td>\n",
       "      <td>B-cells</td>\n",
       "      <td>1.5</td>\n",
       "    </tr>\n",
       "    <tr>\n",
       "      <th>...</th>\n",
       "      <td>...</td>\n",
       "      <td>...</td>\n",
       "      <td>...</td>\n",
       "      <td>...</td>\n",
       "    </tr>\n",
       "    <tr>\n",
       "      <th>1626637</th>\n",
       "      <td>ENSG00000288695</td>\n",
       "      <td>ENSG00000288695</td>\n",
       "      <td>Squamous epithelial cells</td>\n",
       "      <td>0.1</td>\n",
       "    </tr>\n",
       "    <tr>\n",
       "      <th>1626638</th>\n",
       "      <td>ENSG00000288695</td>\n",
       "      <td>ENSG00000288695</td>\n",
       "      <td>Suprabasal keratinocytes</td>\n",
       "      <td>0.3</td>\n",
       "    </tr>\n",
       "    <tr>\n",
       "      <th>1626639</th>\n",
       "      <td>ENSG00000288695</td>\n",
       "      <td>ENSG00000288695</td>\n",
       "      <td>Syncytiotrophoblasts</td>\n",
       "      <td>0.0</td>\n",
       "    </tr>\n",
       "    <tr>\n",
       "      <th>1626640</th>\n",
       "      <td>ENSG00000288695</td>\n",
       "      <td>ENSG00000288695</td>\n",
       "      <td>T-cells</td>\n",
       "      <td>0.1</td>\n",
       "    </tr>\n",
       "    <tr>\n",
       "      <th>1626641</th>\n",
       "      <td>ENSG00000288695</td>\n",
       "      <td>ENSG00000288695</td>\n",
       "      <td>Undifferentiated cells</td>\n",
       "      <td>0.0</td>\n",
       "    </tr>\n",
       "  </tbody>\n",
       "</table>\n",
       "<p>1626642 rows × 4 columns</p>\n",
       "</div>"
      ],
      "text/plain": [
       "                    Gene        Gene name                  Cell type   nTPM\n",
       "0        ENSG00000000003           TSPAN6                 Adipocytes  147.5\n",
       "1        ENSG00000000003           TSPAN6      Alveolar cells type 1    6.0\n",
       "2        ENSG00000000003           TSPAN6      Alveolar cells type 2   10.9\n",
       "3        ENSG00000000003           TSPAN6                 Astrocytes   13.6\n",
       "4        ENSG00000000003           TSPAN6                    B-cells    1.5\n",
       "...                  ...              ...                        ...    ...\n",
       "1626637  ENSG00000288695  ENSG00000288695  Squamous epithelial cells    0.1\n",
       "1626638  ENSG00000288695  ENSG00000288695   Suprabasal keratinocytes    0.3\n",
       "1626639  ENSG00000288695  ENSG00000288695       Syncytiotrophoblasts    0.0\n",
       "1626640  ENSG00000288695  ENSG00000288695                    T-cells    0.1\n",
       "1626641  ENSG00000288695  ENSG00000288695     Undifferentiated cells    0.0\n",
       "\n",
       "[1626642 rows x 4 columns]"
      ]
     },
     "execution_count": 3,
     "metadata": {},
     "output_type": "execute_result"
    }
   ],
   "source": [
    "df_expr_ref_cell_type"
   ]
  },
  {
   "cell_type": "code",
   "execution_count": 6,
   "metadata": {},
   "outputs": [
    {
     "data": {
      "text/html": [
       "<div>\n",
       "<style scoped>\n",
       "    .dataframe tbody tr th:only-of-type {\n",
       "        vertical-align: middle;\n",
       "    }\n",
       "\n",
       "    .dataframe tbody tr th {\n",
       "        vertical-align: top;\n",
       "    }\n",
       "\n",
       "    .dataframe thead th {\n",
       "        text-align: right;\n",
       "    }\n",
       "</style>\n",
       "<table border=\"1\" class=\"dataframe\">\n",
       "  <thead>\n",
       "    <tr style=\"text-align: right;\">\n",
       "      <th></th>\n",
       "      <th>Cell Line</th>\n",
       "      <th>Gene</th>\n",
       "    </tr>\n",
       "  </thead>\n",
       "  <tbody>\n",
       "    <tr>\n",
       "      <th>0</th>\n",
       "      <td>K562</td>\n",
       "      <td>ENSG00000000003</td>\n",
       "    </tr>\n",
       "    <tr>\n",
       "      <th>1</th>\n",
       "      <td>K562</td>\n",
       "      <td>ENSG00000000419</td>\n",
       "    </tr>\n",
       "    <tr>\n",
       "      <th>2</th>\n",
       "      <td>K562</td>\n",
       "      <td>ENSG00000000457</td>\n",
       "    </tr>\n",
       "    <tr>\n",
       "      <th>3</th>\n",
       "      <td>K562</td>\n",
       "      <td>ENSG00000000460</td>\n",
       "    </tr>\n",
       "    <tr>\n",
       "      <th>4</th>\n",
       "      <td>K562</td>\n",
       "      <td>ENSG00000000938</td>\n",
       "    </tr>\n",
       "    <tr>\n",
       "      <th>...</th>\n",
       "      <td>...</td>\n",
       "      <td>...</td>\n",
       "    </tr>\n",
       "    <tr>\n",
       "      <th>14969</th>\n",
       "      <td>iPSC</td>\n",
       "      <td>ENSG00000286522</td>\n",
       "    </tr>\n",
       "    <tr>\n",
       "      <th>14970</th>\n",
       "      <td>iPSC</td>\n",
       "      <td>ENSG00000287080</td>\n",
       "    </tr>\n",
       "    <tr>\n",
       "      <th>14971</th>\n",
       "      <td>iPSC</td>\n",
       "      <td>ENSG00000288558</td>\n",
       "    </tr>\n",
       "    <tr>\n",
       "      <th>14972</th>\n",
       "      <td>iPSC</td>\n",
       "      <td>ENSG00000288637</td>\n",
       "    </tr>\n",
       "    <tr>\n",
       "      <th>14973</th>\n",
       "      <td>iPSC</td>\n",
       "      <td>ENSG00000288675</td>\n",
       "    </tr>\n",
       "  </tbody>\n",
       "</table>\n",
       "<p>72469 rows × 2 columns</p>\n",
       "</div>"
      ],
      "text/plain": [
       "      Cell Line             Gene\n",
       "0          K562  ENSG00000000003\n",
       "1          K562  ENSG00000000419\n",
       "2          K562  ENSG00000000457\n",
       "3          K562  ENSG00000000460\n",
       "4          K562  ENSG00000000938\n",
       "...         ...              ...\n",
       "14969      iPSC  ENSG00000286522\n",
       "14970      iPSC  ENSG00000287080\n",
       "14971      iPSC  ENSG00000288558\n",
       "14972      iPSC  ENSG00000288637\n",
       "14973      iPSC  ENSG00000288675\n",
       "\n",
       "[72469 rows x 2 columns]"
      ]
     },
     "execution_count": 6,
     "metadata": {},
     "output_type": "execute_result"
    }
   ],
   "source": [
    "df_expr_ref = pd.DataFrame(columns = ['Cell Line', 'Gene'])\n",
    "\n",
    "k562 = {'Cell Line': 'K562', 'Gene': list(df_expr_ref_celline[(df_expr_ref_celline['Cell line'] == 'K-562') & (df_expr_ref_celline['TPM'] > 0.0)]['Gene'].unique())}\n",
    "df_expr_ref = pd.concat([df_expr_ref, pd.DataFrame(k562)])\n",
    "melanocytes = {'Cell Line': 'melanocytes', 'Gene': list(df_expr_ref_cell_type[(df_expr_ref_cell_type['Cell type'] == 'Melanocytes') & (df_expr_ref_cell_type['nTPM'] > 0.0)]['Gene'].unique())}\n",
    "df_expr_ref = pd.concat([df_expr_ref, pd.DataFrame(melanocytes)])\n",
    "neurons = {'Cell Line': 'iPSC-induced neuron', 'Gene': list(df_expr_ref_cell_type[((df_expr_ref_cell_type['Cell type'] == 'Excitatory neurons') | (df_expr_ref_cell_type['Cell type'] == 'Inhibitory neurons')) & (df_expr_ref_cell_type['nTPM'] > 0.0)]['Gene'].unique())}\n",
    "df_expr_ref = pd.concat([df_expr_ref, pd.DataFrame(neurons)])\n",
    "hTERT_RPE1 = {'Cell Line': 'RPE1', 'Gene': list(df_expr_ref_celline[(df_expr_ref_celline['Cell line'] == 'hTERT-RPE1') & (df_expr_ref_celline['TPM'] > 0.0)]['Gene'].unique())}\n",
    "df_expr_ref = pd.concat([df_expr_ref, pd.DataFrame(hTERT_RPE1)])\n",
    "Undifferentiated_cells = {'Cell Line': 'iPSC', 'Gene': list(df_expr_ref_cell_type[(df_expr_ref_cell_type['Cell type'] == 'Undifferentiated cells') & (df_expr_ref_cell_type['nTPM'] > 0.0)]['Gene'].unique())}\n",
    "df_expr_ref = pd.concat([df_expr_ref, pd.DataFrame(Undifferentiated_cells)])\n",
    "\n",
    "df_expr_ref"
   ]
  },
  {
   "cell_type": "code",
   "execution_count": 7,
   "metadata": {},
   "outputs": [
    {
     "data": {
      "text/plain": [
       "array(['K562', 'melanocytes', 'iPSC-induced neuron', 'RPE1', 'iPSC'],\n",
       "      dtype=object)"
      ]
     },
     "execution_count": 7,
     "metadata": {},
     "output_type": "execute_result"
    }
   ],
   "source": [
    "df_expr_ref['Cell Line'].unique()"
   ]
  },
  {
   "cell_type": "code",
   "execution_count": 8,
   "metadata": {},
   "outputs": [
    {
     "data": {
      "text/plain": [
       "Gene\n",
       "ENSG00000285437    5\n",
       "ENSG00000285053    5\n",
       "ENSG00000003249    5\n",
       "ENSG00000003147    5\n",
       "ENSG00000003137    5\n",
       "                  ..\n",
       "ENSG00000213171    1\n",
       "ENSG00000212722    1\n",
       "ENSG00000211812    1\n",
       "ENSG00000211689    1\n",
       "ENSG00000204978    1\n",
       "Name: count, Length: 18436, dtype: int64"
      ]
     },
     "execution_count": 8,
     "metadata": {},
     "output_type": "execute_result"
    }
   ],
   "source": [
    "df_expr_ref['Gene'].value_counts()"
   ]
  },
  {
   "cell_type": "code",
   "execution_count": 9,
   "metadata": {},
   "outputs": [
    {
     "data": {
      "text/plain": [
       "<Axes: xlabel='count', ylabel='Count'>"
      ]
     },
     "execution_count": 9,
     "metadata": {},
     "output_type": "execute_result"
    },
    {
     "data": {
      "image/png": "[encoded data removed]",
      "text/plain": [
       "<Figure size 640x480 with 1 Axes>"
      ]
     },
     "metadata": {},
     "output_type": "display_data"
    }
   ],
   "source": [
    "sns.histplot(df_expr_ref['Gene'].value_counts())"
   ]
  },
  {
   "cell_type": "code",
   "execution_count": 10,
   "metadata": {},
   "outputs": [],
   "source": [
    "df_expr_ref.to_csv('../data/expression_reference/expression_reference.csv')"
   ]
  },
  {
   "cell_type": "code",
   "execution_count": null,
   "metadata": {},
   "outputs": [],
   "source": []
  }
 ],
 "metadata": {
  "kernelspec": {
   "display_name": "Python 3",
   "language": "python",
   "name": "python3"
  },
  "language_info": {
   "codemirror_mode": {
    "name": "ipython",
    "version": 3
   },
   "file_extension": ".py",
   "mimetype": "text/x-python",
   "name": "python",
   "nbconvert_exporter": "python",
   "pygments_lexer": "ipython3",
   "version": "3.10.17"
  }
 },
 "nbformat": 4,
 "nbformat_minor": 2
}
